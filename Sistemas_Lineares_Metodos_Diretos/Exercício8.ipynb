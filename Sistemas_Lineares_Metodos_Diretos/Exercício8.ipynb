{
 "cells": [
  {
   "attachments": {
    "image.png": {
     "image/png": "[encoded data removed]"
    }
   },
   "cell_type": "markdown",
   "id": "acf6b5f0",
   "metadata": {},
   "source": [
    "### Exercício 8\n",
    "![image.png](attachment:image.png)"
   ]
  },
  {
   "cell_type": "code",
   "execution_count": 1,
   "id": "9f159666",
   "metadata": {},
   "outputs": [],
   "source": [
    "import numpy as np"
   ]
  },
  {
   "cell_type": "code",
   "execution_count": 2,
   "id": "001fcee3",
   "metadata": {},
   "outputs": [],
   "source": [
    "def decomposicaoLU(A):\n",
    "    n,c = A.shape\n",
    "    L = np.identity(n, dtype=float)\n",
    "    P = np.identity(n, dtype=float)\n",
    "    for j in range(n):\n",
    "        if A[j][j]==0:\n",
    "            print(\"Não existe decomposição pois o pivo é nulo\")\n",
    "            return [],[]\n",
    "        novaLinhaPivo = j\n",
    "        for h in range(j,n):\n",
    "            if A[j][h] > A[j][j]:\n",
    "                novaLinhaPivo = h\n",
    "                \n",
    "        if h != novaLinhaPivo:\n",
    "            print(\"h = \",h,\"nova= \", novaLinhaPivo)\n",
    "            A[j],A[h] = A[h].copy(),A[j].copy()\n",
    "            P[j],P[h] = P[h].copy(),P[j].copy()\n",
    "            \n",
    "        for i in range(j+1,n):\n",
    "            L[i][j] = A[i][j]/A[j][j]\n",
    "            A[i][:] = A[i][:] - L[i][j]*A[j][:]\n",
    "    return L,A,P\n",
    "\n",
    "def triangularInferior(k,n,x,a,b):\n",
    "    x[0] = b[0]/a[0][0]\n",
    "    print(x[0])\n",
    "    for k in range(1,k):\n",
    "        s=0\n",
    "        for j in range(0,k):\n",
    "            s= s + a[k][j]*x[j]\n",
    "            print(\"k=\",k,\"j=\",j,\"a[k][j]\",a[k][j],\"x[j]\",x[j])\n",
    "        x[k] = (b[k]-s)/a[k][k]    \n",
    "        print(\"k=\",k,\"xk = \",x[k],\"bk= \",b[k],\"s= \",s,\"akk= \",a[k][k])\n",
    "    return x\n",
    "\n",
    "def triangularSuperior(k,n,x,a,b):\n",
    "    x[n-1] = b[n-1]/a[n-1][n-1]\n",
    "    print(x[n-1],n-1)\n",
    "    k = n-2\n",
    "    while k >= 0:\n",
    "        s=0\n",
    "        for j in range(k+1,n):\n",
    "            s= s + a[k][j]*x[j]\n",
    "            print(\"k=\",k,\"j=\",j,\"a[k][j]\",a[k][j],\"x[j]\",x[j],\"n-1 = \",n-1)\n",
    "        x[k] = (b[k]-s)/a[k][k]    \n",
    "        print(\"k=\",k,\"xk = \",x[k],\"bk= \",b[k],\"s= \",s,\"akk= \",a[k][k])\n",
    "        k= k-1\n",
    "    return x"
   ]
  },
  {
   "cell_type": "code",
   "execution_count": 3,
   "id": "01f7ac64",
   "metadata": {},
   "outputs": [],
   "source": [
    "A = np.array([\n",
    "    [2,1,-3],\n",
    "    [4,0,1],\n",
    "    [6,-2,0]\n",
    "])\n",
    "b = np.array([-7,-2,-8])"
   ]
  },
  {
   "cell_type": "code",
   "execution_count": 4,
   "id": "dff64f8f",
   "metadata": {},
   "outputs": [
    {
     "name": "stdout",
     "output_type": "stream",
     "text": [
      "[[ 2  1 -3]\n",
      " [ 4  0  1]\n",
      " [ 6 -2  0]]\n",
      "h =  2 nova=  0\n",
      "h =  2 nova=  1\n",
      "L=  [[1.         0.         0.        ]\n",
      " [0.66666667 1.         0.        ]\n",
      " [0.33333333 1.         1.        ]] \n",
      "\n",
      "U=  [[ 6 -2  0]\n",
      " [ 0  1 -3]\n",
      " [ 0  0  4]] \n",
      "\n",
      "P=  [[0. 0. 1.]\n",
      " [1. 0. 0.]\n",
      " [0. 1. 0.]] \n",
      "\n"
     ]
    }
   ],
   "source": [
    "print(A)\n",
    "L,U,P = decomposicaoLU(A)\n",
    "print(\"L= \",L,\"\\n\")\n",
    "print(\"U= \",U,\"\\n\")\n",
    "print(\"P= \",P,\"\\n\")"
   ]
  },
  {
   "cell_type": "code",
   "execution_count": 5,
   "id": "70c03418",
   "metadata": {},
   "outputs": [
    {
     "name": "stdout",
     "output_type": "stream",
     "text": [
      "[-8. -7. -2.]\n"
     ]
    }
   ],
   "source": [
    "Pb = P.dot(b)\n",
    "print(Pb)"
   ]
  },
  {
   "cell_type": "code",
   "execution_count": 6,
   "id": "f41fe2e1",
   "metadata": {},
   "outputs": [
    {
     "name": "stdout",
     "output_type": "stream",
     "text": [
      "[0. 0. 0.]\n",
      "-8.0\n",
      "k= 1 j= 0 a[k][j] 0.6666666666666666 x[j] -8.0\n",
      "k= 1 xk =  -1.666666666666667 bk=  -7.0 s=  -5.333333333333333 akk=  1.0\n",
      "k= 2 j= 0 a[k][j] 0.3333333333333333 x[j] -8.0\n",
      "k= 2 j= 1 a[k][j] 1.0 x[j] -1.666666666666667\n",
      "k= 2 xk =  2.333333333333334 bk=  -2.0 s=  -4.333333333333334 akk=  1.0\n",
      "[-8.         -1.66666667  2.33333333]\n"
     ]
    }
   ],
   "source": [
    "k,n = L.shape\n",
    "y = np.zeros(n)\n",
    "print(y)\n",
    "y = triangularInferior(k,n,y,L,Pb)\n",
    "print(y)"
   ]
  },
  {
   "cell_type": "code",
   "execution_count": 7,
   "id": "89fe2a42",
   "metadata": {},
   "outputs": [
    {
     "name": "stdout",
     "output_type": "stream",
     "text": [
      "[0. 0. 0.]\n",
      "0.5833333333333335 2\n",
      "k= 1 j= 2 a[k][j] -3 x[j] 0.5833333333333335 n-1 =  2\n",
      "k= 1 xk =  0.08333333333333348 bk=  -1.666666666666667 s=  -1.7500000000000004 akk=  1\n",
      "k= 0 j= 1 a[k][j] -2 x[j] 0.08333333333333348 n-1 =  2\n",
      "k= 0 j= 2 a[k][j] 0 x[j] 0.5833333333333335 n-1 =  2\n",
      "k= 0 xk =  -1.3055555555555556 bk=  -8.0 s=  -0.16666666666666696 akk=  6\n",
      "[-1.30555556  0.08333333  0.58333333]\n"
     ]
    }
   ],
   "source": [
    "k,n = U.shape\n",
    "x = np.zeros(n)\n",
    "print(x)\n",
    "x = triangularSuperior(k,n,x,U,y)\n",
    "print(x)"
   ]
  },
  {
   "cell_type": "markdown",
   "id": "d6e84ef7",
   "metadata": {},
   "source": [
    "#### Resposta [-1.30555556  0.08333333  0.58333333]"
   ]
  },
  {
   "cell_type": "code",
   "execution_count": null,
   "id": "17658e15",
   "metadata": {},
   "outputs": [],
   "source": []
  }
 ],
 "metadata": {
  "kernelspec": {
   "display_name": "Python 3",
   "language": "python",
   "name": "python3"
  },
  "language_info": {
   "codemirror_mode": {
    "name": "ipython",
    "version": 3
   },
   "file_extension": ".py",
   "mimetype": "text/x-python",
   "name": "python",
   "nbconvert_exporter": "python",
   "pygments_lexer": "ipython3",
   "version": "3.8.8"
  }
 },
 "nbformat": 4,
 "nbformat_minor": 5
}
