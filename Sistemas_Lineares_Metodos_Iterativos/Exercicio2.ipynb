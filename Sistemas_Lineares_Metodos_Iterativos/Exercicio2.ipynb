{
 "cells": [
  {
   "attachments": {
    "image.png": {
     "image/png": "[encoded data removed]"
    }
   },
   "cell_type": "markdown",
   "id": "947895b3",
   "metadata": {},
   "source": [
    "## Exercício 2\n",
    "![image.png](attachment:image.png)"
   ]
  },
  {
   "attachments": {
    "image.png": {
     "image/png": "[encoded data removed]"
    }
   },
   "cell_type": "markdown",
   "id": "ed15a8e2",
   "metadata": {},
   "source": [
    "![image.png](attachment:image.png)"
   ]
  },
  {
   "cell_type": "code",
   "execution_count": 1,
   "id": "978ca50e",
   "metadata": {},
   "outputs": [],
   "source": [
    "import numpy as np\n",
    "import copy"
   ]
  },
  {
   "cell_type": "code",
   "execution_count": 2,
   "id": "5e02a1ff",
   "metadata": {},
   "outputs": [],
   "source": [
    "def GaussSeidel(A,b,p,printa):\n",
    "    AIdent = np.identity(len(A))\n",
    "    D = copy.deepcopy(A)*copy.deepcopy(AIdent)\n",
    "    print(\"D \\n \",D)\n",
    "    InvD = np.linalg.inv(copy.deepcopy(D))\n",
    "    print(\"InvD \\n \",InvD)\n",
    "    B = copy.deepcopy(AIdent) - np.dot(copy.deepcopy(InvD),copy.deepcopy(A))\n",
    "    print(\"B \\n \",B)\n",
    "    d = np.dot(InvD,b)\n",
    "    print(\"d \\n\", d)\n",
    "    x = np.ones(len(b))\n",
    "    it = 0\n",
    "    while True:\n",
    "        it+=1\n",
    "        xOld = copy.deepcopy(x)\n",
    "        for i in range(len(x)):\n",
    "            x[i] = np.dot(B[i],x) + d[i]\n",
    "            #print(x[i])\n",
    "        Er = np.max(np.abs(x-xOld)/np.max(np.abs(x)))\n",
    "        if printa : print(\"x=\",x,\"Erro = \",Er,\"it=\", it)\n",
    "        if Er<10**-p or Er != Er:\n",
    "            print('**',x,Er,it)\n",
    "            break"
   ]
  },
  {
   "cell_type": "code",
   "execution_count": 3,
   "id": "f2cc4360",
   "metadata": {},
   "outputs": [
    {
     "name": "stdout",
     "output_type": "stream",
     "text": [
      "D \n",
      "  [[ 4.  0. -0.]\n",
      " [ 0.  3.  0.]\n",
      " [ 0. -0.  6.]]\n",
      "InvD \n",
      "  [[0.25       0.         0.        ]\n",
      " [0.         0.33333333 0.        ]\n",
      " [0.         0.         0.16666667]]\n",
      "B \n",
      "  [[ 0.         -0.25        0.5       ]\n",
      " [-0.66666667  0.          0.        ]\n",
      " [-0.33333333  0.33333333  0.        ]]\n",
      "d \n",
      " [0.75       1.66666667 0.16666667]\n",
      "** [0.625 1.25  0.375] 0.0 19\n"
     ]
    }
   ],
   "source": [
    "A = np.array([[4,1,-2],[2,3,0],[2,-2,6]])\n",
    "b = np.array([3,5,1])\n",
    "p = 10**2\n",
    "GaussSeidel(A,b,p,False)"
   ]
  },
  {
   "cell_type": "markdown",
   "id": "e3cc094d",
   "metadata": {},
   "source": [
    "### Resposta a)\n",
    "Pelo método de Jacobi foram necessárias 53 iterações já para Seidel apenas 19 para chegar na convergência"
   ]
  },
  {
   "attachments": {
    "image.png": {
     "image/png": "[encoded data removed]"
    }
   },
   "cell_type": "markdown",
   "id": "36ba34c9",
   "metadata": {},
   "source": [
    "![image.png](attachment:image.png)"
   ]
  },
  {
   "cell_type": "code",
   "execution_count": 4,
   "id": "32d3d76f",
   "metadata": {},
   "outputs": [
    {
     "name": "stdout",
     "output_type": "stream",
     "text": [
      "D \n",
      "  [[ 6.  0.  0.]\n",
      " [ 0.  5. -0.]\n",
      " [ 0. -0.  6.]]\n",
      "InvD \n",
      "  [[0.16666667 0.         0.        ]\n",
      " [0.         0.2        0.        ]\n",
      " [0.         0.         0.16666667]]\n",
      "B \n",
      "  [[ 0.         -0.5         0.        ]\n",
      " [-0.4         0.          0.4       ]\n",
      " [-0.5         0.33333333  0.        ]]\n",
      "d \n",
      " [0.16666667 0.4        0.16666667]\n",
      "** [-0.15686275  0.64705882  0.46078431] 0.0 58\n"
     ]
    }
   ],
   "source": [
    "A = np.array([[6,3,0],[2,5,-2],[3,-2,6]])\n",
    "b = np.array([1,2,1])\n",
    "p = 10**2\n",
    "GaussSeidel(A,b,p,False)"
   ]
  },
  {
   "cell_type": "markdown",
   "id": "5bf54cd3",
   "metadata": {},
   "source": [
    "### Resposta b)\n",
    "Pelo método de Jacobi foram necessárias 98 iterações já para Seidel apenas 58 para chegar na convergência"
   ]
  },
  {
   "cell_type": "code",
   "execution_count": null,
   "id": "d9c46074",
   "metadata": {},
   "outputs": [],
   "source": []
  }
 ],
 "metadata": {
  "kernelspec": {
   "display_name": "Python 3",
   "language": "python",
   "name": "python3"
  },
  "language_info": {
   "codemirror_mode": {
    "name": "ipython",
    "version": 3
   },
   "file_extension": ".py",
   "mimetype": "text/x-python",
   "name": "python",
   "nbconvert_exporter": "python",
   "pygments_lexer": "ipython3",
   "version": "3.8.8"
  }
 },
 "nbformat": 4,
 "nbformat_minor": 5
}
