{
 "cells": [
  {
   "cell_type": "markdown",
   "id": "e037e3ac",
   "metadata": {},
   "source": [
    "### Exercício 2\n",
    "1. Escreva um algoritmo para a encontrar a resolução de um sistema \n",
    "linear triangular inferior e conte o número de operações de ponto \n",
    "flutuante realizadas quando o sistema tem  n equações e n incógnitas."
   ]
  },
  {
   "cell_type": "code",
   "execution_count": 1,
   "id": "19a1692a",
   "metadata": {},
   "outputs": [],
   "source": [
    "def triangularInferior(k,n,x,a,b):\n",
    "    x[0] = b[0]/a[0][0]\n",
    "    print(x[0])\n",
    "    for k in range(1,k):\n",
    "        s=0\n",
    "        for j in range(0,k):\n",
    "            s= s + a[k][j]*x[j]\n",
    "            print(\"k=\",k,\"j=\",j,\"a[k][j]\",a[k][j],\"x[j]\",x[j])\n",
    "        x[k] = (b[k]-s)/a[k][k]    \n",
    "        print(\"k=\",k,\"xk = \",x[k],\"bk= \",b[k],\"s= \",s,\"akk= \",a[k][k])\n",
    "    return x"
   ]
  },
  {
   "cell_type": "markdown",
   "id": "cf89b1ba",
   "metadata": {},
   "source": [
    "#### Resposta"
   ]
  },
  {
   "cell_type": "code",
   "execution_count": 2,
   "id": "1b5adfe0",
   "metadata": {},
   "outputs": [
    {
     "name": "stdout",
     "output_type": "stream",
     "text": [
      "8.0\n",
      "k= 1 j= 0 a[k][j] 2 x[j] 8.0\n",
      "k= 1 xk =  1.0 bk=  20 s=  16.0 akk=  4\n",
      "k= 2 j= 0 a[k][j] 2 x[j] 8.0\n",
      "k= 2 j= 1 a[k][j] 4 x[j] 1.0\n",
      "k= 2 xk =  1.6666666666666667 bk=  30 s=  20.0 akk=  6\n",
      "k= 3 j= 0 a[k][j] 2 x[j] 8.0\n",
      "k= 3 j= 1 a[k][j] 4 x[j] 1.0\n",
      "k= 3 j= 2 a[k][j] 6 x[j] 1.6666666666666667\n",
      "k= 3 xk =  1.25 bk=  40 s=  30.0 akk=  8\n",
      "[8.0, 1.0, 1.6666666666666667, 1.25]\n"
     ]
    }
   ],
   "source": [
    "k=4\n",
    "n=4\n",
    "x= [0]*n\n",
    "   \n",
    "a= [[2,0,0,0],\n",
    "    [2,4,0,0],\n",
    "    [2,4,6,0],\n",
    "    [2,4,6,8]]\n",
    "b= [16,20,30,40]\n",
    "x = triangularInferior(k,n,x,a,b)\n",
    "print(x)"
   ]
  },
  {
   "cell_type": "code",
   "execution_count": null,
   "id": "353dc59a",
   "metadata": {},
   "outputs": [],
   "source": [
    "\n"
   ]
  }
 ],
 "metadata": {
  "kernelspec": {
   "display_name": "Python 3",
   "language": "python",
   "name": "python3"
  },
  "language_info": {
   "codemirror_mode": {
    "name": "ipython",
    "version": 3
   },
   "file_extension": ".py",
   "mimetype": "text/x-python",
   "name": "python",
   "nbconvert_exporter": "python",
   "pygments_lexer": "ipython3",
   "version": "3.8.8"
  }
 },
 "nbformat": 4,
 "nbformat_minor": 5
}
