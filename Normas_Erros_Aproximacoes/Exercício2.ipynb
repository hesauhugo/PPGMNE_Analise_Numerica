{
 "cells": [
  {
   "cell_type": "markdown",
   "id": "6e7b3616",
   "metadata": {},
   "source": [
    "### Exercício 2\n",
    "$ \\text{Para a função } \\mathit{f(x) = } \\frac{37500}{25-x^2}\n",
    "\\\\ \\text{ obtenha os valores de } \\mathit{f(x)} \\text{ em } \\mathit{x = 4.999} \\text{ e em } \\mathit{x = 4.9990005} \n",
    "\\\\ \\text{ em uma calculadora científica com representação de 10 dígitos significativos.}\n",
    "$ "
   ]
  },
  {
   "cell_type": "markdown",
   "id": "c20f908e",
   "metadata": {},
   "source": [
    "Para x = 4,999 o resultado foi 3.750.375.000"
   ]
  },
  {
   "cell_type": "markdown",
   "id": "f5fab60c",
   "metadata": {},
   "source": [
    "Para x = 4,990005 o resultado foi 3.752.250.937"
   ]
  },
  {
   "cell_type": "code",
   "execution_count": null,
   "id": "08383e44",
   "metadata": {},
   "outputs": [],
   "source": []
  }
 ],
 "metadata": {
  "kernelspec": {
   "display_name": "Python 3",
   "language": "python",
   "name": "python3"
  },
  "language_info": {
   "codemirror_mode": {
    "name": "ipython",
    "version": 3
   },
   "file_extension": ".py",
   "mimetype": "text/x-python",
   "name": "python",
   "nbconvert_exporter": "python",
   "pygments_lexer": "ipython3",
   "version": "3.8.8"
  }
 },
 "nbformat": 4,
 "nbformat_minor": 5
}
