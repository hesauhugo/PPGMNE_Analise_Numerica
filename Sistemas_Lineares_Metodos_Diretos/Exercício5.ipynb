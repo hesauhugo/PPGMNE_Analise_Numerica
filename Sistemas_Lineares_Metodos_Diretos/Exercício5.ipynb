{
 "cells": [
  {
   "attachments": {
    "image.png": {
     "image/png": "[encoded data removed]"
    }
   },
   "cell_type": "markdown",
   "id": "f938ec2a",
   "metadata": {},
   "source": [
    "#### Exercício 5\n",
    "![image.png](attachment:image.png)"
   ]
  },
  {
   "cell_type": "code",
   "execution_count": 1,
   "id": "9ef2be40",
   "metadata": {},
   "outputs": [],
   "source": [
    "import numpy as np"
   ]
  },
  {
   "cell_type": "code",
   "execution_count": 2,
   "id": "ce8b7a7a",
   "metadata": {},
   "outputs": [],
   "source": [
    "def decomposicaoLU(A):\n",
    "    n,c = A.shape\n",
    "    L = np.identity(n, dtype=float)\n",
    "    for j in range(n):\n",
    "        if A[j][j]==0:\n",
    "            print(\"Não existe decomposição pois o pivo é nulo\")\n",
    "            return [],[]\n",
    "        for i in range(j+1,n):\n",
    "            L[i][j] = A[i][j]/A[j][j]\n",
    "            A[i][:] = A[i][:] - L[i][j]*A[j][:]\n",
    "    return L,A\n",
    "\n",
    "def triangularInferior(k,n,x,a,b):\n",
    "    x[0] = b[0]/a[0][0]\n",
    "    print(x[0])\n",
    "    for k in range(1,k):\n",
    "        s=0\n",
    "        for j in range(0,k):\n",
    "            s= s + a[k][j]*x[j]\n",
    "            print(\"k=\",k,\"j=\",j,\"a[k][j]\",a[k][j],\"x[j]\",x[j])\n",
    "        x[k] = (b[k]-s)/a[k][k]    \n",
    "        print(\"k=\",k,\"xk = \",x[k],\"bk= \",b[k],\"s= \",s,\"akk= \",a[k][k])\n",
    "    return x\n",
    "\n",
    "def triangularSuperior(k,n,x,a,b):\n",
    "    x[n-1] = b[n-1]/a[n-1][n-1]\n",
    "    print(x[n-1],n-1)\n",
    "    k = n-2\n",
    "    while k >= 0:\n",
    "        s=0\n",
    "        for j in range(k+1,n):\n",
    "            s= s + a[k][j]*x[j]\n",
    "            print(\"k=\",k,\"j=\",j,\"a[k][j]\",a[k][j],\"x[j]\",x[j],\"n-1 = \",n-1)\n",
    "        x[k] = (b[k]-s)/a[k][k]    \n",
    "        print(\"k=\",k,\"xk = \",x[k],\"bk= \",b[k],\"s= \",s,\"akk= \",a[k][k])\n",
    "        k= k-1\n",
    "    return x"
   ]
  },
  {
   "cell_type": "code",
   "execution_count": 3,
   "id": "2e7e9fa4",
   "metadata": {},
   "outputs": [
    {
     "name": "stdout",
     "output_type": "stream",
     "text": [
      "[[ 1.  0.  0.  0.]\n",
      " [-1.  1.  0.  0.]\n",
      " [ 3. -2.  1.  0.]\n",
      " [-2.  1.  2.  1.]]\n",
      "\n",
      "\n",
      "[[ 2  1  1  3]\n",
      " [ 0 -1  2  4]\n",
      " [ 0  0  3  1]\n",
      " [ 0  0  0  5]]\n"
     ]
    }
   ],
   "source": [
    "A = np.array([\n",
    "    [2,1,1,3],\n",
    "    [-2,-2,1,1],\n",
    "    [6,5,2,2],\n",
    "    [-4,-3,6,5]\n",
    "])\n",
    "L,U = decomposicaoLU(A)\n",
    "print(L) \n",
    "print(\"\\n\")\n",
    "print(U) "
   ]
  },
  {
   "cell_type": "code",
   "execution_count": 4,
   "id": "ea5cca16",
   "metadata": {},
   "outputs": [
    {
     "name": "stdout",
     "output_type": "stream",
     "text": [
      "-1.8 3\n",
      "k= 2 j= 3 a[k][j] 1 x[j] -1.8 n-1 =  3\n",
      "k= 2 xk =  2.2666666666666666 bk=  5 s=  -1.8 akk=  3\n",
      "k= 1 j= 2 a[k][j] 2 x[j] 2.2666666666666666 n-1 =  3\n",
      "k= 1 j= 3 a[k][j] 4 x[j] -1.8 n-1 =  3\n",
      "k= 1 xk =  0.33333333333333304 bk=  -3 s=  -2.666666666666667 akk=  -1\n",
      "k= 0 j= 1 a[k][j] 1 x[j] 0.33333333333333304 n-1 =  3\n",
      "k= 0 j= 2 a[k][j] 1 x[j] 2.2666666666666666 n-1 =  3\n",
      "k= 0 j= 3 a[k][j] 3 x[j] -1.8 n-1 =  3\n",
      "k= 0 xk =  0.40000000000000036 bk=  -2 s=  -2.8000000000000007 akk=  2\n",
      "[ 0.4         0.33333333  2.26666667 -1.8       ]\n",
      "0.40000000000000036\n",
      "k= 1 j= 0 a[k][j] -1.0 x[j] 0.40000000000000036\n",
      "k= 1 xk =  0.7333333333333334 bk=  0.33333333333333304 s=  -0.40000000000000036 akk=  1.0\n",
      "k= 2 j= 0 a[k][j] 3.0 x[j] 0.40000000000000036\n",
      "k= 2 j= 1 a[k][j] -2.0 x[j] 0.7333333333333334\n",
      "k= 2 xk =  2.5333333333333323 bk=  2.2666666666666666 s=  -0.2666666666666657 akk=  1.0\n",
      "k= 3 j= 0 a[k][j] -2.0 x[j] 0.40000000000000036\n",
      "k= 3 j= 1 a[k][j] 1.0 x[j] 0.7333333333333334\n",
      "k= 3 j= 2 a[k][j] 2.0 x[j] 2.5333333333333323\n",
      "k= 3 xk =  -6.799999999999997 bk=  -1.8 s=  4.999999999999997 akk=  1.0\n",
      "[ 0.4         0.73333333  2.53333333 -6.8       ]\n"
     ]
    }
   ],
   "source": [
    "k,n = U.shape\n",
    "y = np.zeros(n)\n",
    "b = np.array([-2,-3,5,-9])\n",
    "y = triangularSuperior(k,n,y,U,b)\n",
    "print(y)\n",
    "k,n = L.shape\n",
    "x = np.zeros(n)\n",
    "x = triangularInferior(k,n,x,L,y)\n",
    "print(x)"
   ]
  },
  {
   "cell_type": "code",
   "execution_count": 5,
   "id": "d8ef4acc",
   "metadata": {},
   "outputs": [
    {
     "name": "stdout",
     "output_type": "stream",
     "text": [
      "[[ 1.  0.  0.  0.]\n",
      " [-1.  1.  0.  0.]\n",
      " [ 3. -2.  1.  0.]\n",
      " [-2.  1.  2.  1.]]\n",
      "\n",
      "\n",
      "[[ 2  1  1  3]\n",
      " [ 0 -1  2  4]\n",
      " [ 0  0  3  1]\n",
      " [ 0  0  0  5]]\n"
     ]
    }
   ],
   "source": [
    "A = np.array([\n",
    "    [2,1,1,3],\n",
    "    [-2,-2,1,1],\n",
    "    [6,5,2,2],\n",
    "    [-4,-3,6,5]\n",
    "])\n",
    "L,U = decomposicaoLU(A)\n",
    "print(L) \n",
    "print(\"\\n\")\n",
    "print(U) "
   ]
  },
  {
   "cell_type": "code",
   "execution_count": 6,
   "id": "d05c27e2",
   "metadata": {},
   "outputs": [
    {
     "name": "stdout",
     "output_type": "stream",
     "text": [
      "-3.0 3\n",
      "k= 2 j= 3 a[k][j] 1 x[j] -3.0 n-1 =  3\n",
      "k= 2 xk =  1.0 bk=  0 s=  -3.0 akk=  3\n",
      "k= 1 j= 2 a[k][j] 2 x[j] 1.0 n-1 =  3\n",
      "k= 1 j= 3 a[k][j] 4 x[j] -3.0 n-1 =  3\n",
      "k= 1 xk =  -6.0 bk=  -4 s=  -10.0 akk=  -1\n",
      "k= 0 j= 1 a[k][j] 1 x[j] -6.0 n-1 =  3\n",
      "k= 0 j= 2 a[k][j] 1 x[j] 1.0 n-1 =  3\n",
      "k= 0 j= 3 a[k][j] 3 x[j] -3.0 n-1 =  3\n",
      "k= 0 xk =  7.0 bk=  0 s=  -14.0 akk=  2\n",
      "[ 7. -6.  1. -3.]\n",
      "7.0\n",
      "k= 1 j= 0 a[k][j] -1.0 x[j] 7.0\n",
      "k= 1 xk =  1.0 bk=  -6.0 s=  -7.0 akk=  1.0\n",
      "k= 2 j= 0 a[k][j] 3.0 x[j] 7.0\n",
      "k= 2 j= 1 a[k][j] -2.0 x[j] 1.0\n",
      "k= 2 xk =  -18.0 bk=  1.0 s=  19.0 akk=  1.0\n",
      "k= 3 j= 0 a[k][j] -2.0 x[j] 7.0\n",
      "k= 3 j= 1 a[k][j] 1.0 x[j] 1.0\n",
      "k= 3 j= 2 a[k][j] 2.0 x[j] -18.0\n",
      "k= 3 xk =  46.0 bk=  -3.0 s=  -49.0 akk=  1.0\n",
      "[  7.   1. -18.  46.]\n"
     ]
    }
   ],
   "source": [
    "k,n = U.shape\n",
    "y = np.zeros(n)\n",
    "b = np.array([0,-4,0,-15])\n",
    "y = triangularSuperior(k,n,y,U,b)\n",
    "print(y)\n",
    "k,n = L.shape\n",
    "x = np.zeros(n)\n",
    "x = triangularInferior(k,n,x,L,y)\n",
    "print(x)"
   ]
  },
  {
   "attachments": {
    "image.png": {
     "image/png": "[encoded data removed]"
    }
   },
   "cell_type": "markdown",
   "id": "8d7a68d5",
   "metadata": {},
   "source": [
    "![image.png](attachment:image.png)"
   ]
  },
  {
   "cell_type": "code",
   "execution_count": 8,
   "id": "1c119c3c",
   "metadata": {},
   "outputs": [
    {
     "name": "stdout",
     "output_type": "stream",
     "text": [
      "Não existe decomposição pois o pivo é nulo\n",
      "[]\n",
      "\n",
      "\n",
      "[]\n"
     ]
    }
   ],
   "source": [
    "A = np.array([\n",
    "    [3,1,0],\n",
    "    [6,2,1],\n",
    "    [1,1,1],\n",
    "])\n",
    "L,U = decomposicaoLU(A)\n",
    "print(L) \n",
    "print(\"\\n\")\n",
    "print(U) "
   ]
  },
  {
   "cell_type": "code",
   "execution_count": null,
   "id": "fbedb845",
   "metadata": {},
   "outputs": [],
   "source": []
  }
 ],
 "metadata": {
  "kernelspec": {
   "display_name": "Python 3",
   "language": "python",
   "name": "python3"
  },
  "language_info": {
   "codemirror_mode": {
    "name": "ipython",
    "version": 3
   },
   "file_extension": ".py",
   "mimetype": "text/x-python",
   "name": "python",
   "nbconvert_exporter": "python",
   "pygments_lexer": "ipython3",
   "version": "3.8.8"
  }
 },
 "nbformat": 4,
 "nbformat_minor": 5
}
