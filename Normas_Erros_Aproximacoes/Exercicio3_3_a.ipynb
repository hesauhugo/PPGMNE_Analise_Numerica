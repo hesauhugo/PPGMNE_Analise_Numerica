{
 "cells": [
  {
   "cell_type": "markdown",
   "id": "84798e67",
   "metadata": {},
   "source": [
    "#### Exercício 3 da lista \n",
    "##### Polinômio de Taylor\n",
    "3.Considere a função  definida por "
   ]
  },
  {
   "cell_type": "markdown",
   "id": "60c84948",
   "metadata": {},
   "source": [
    "$ f(x) \\text{ = } exp\\left(\\frac{4x}{5} \\right)\n",
    "\\text{ + } exp\\left(5-x \\right)  $"
   ]
  },
  {
   "cell_type": "markdown",
   "id": "2ace8941",
   "metadata": {},
   "source": [
    "(a) apresente a expressão analítica para $ T_{n}(x;x_{0})$"
   ]
  },
  {
   "cell_type": "code",
   "execution_count": 1,
   "id": "0c39fc4b",
   "metadata": {},
   "outputs": [],
   "source": [
    "from sympy import *\n",
    "from sympy.plotting import *\n",
    "%matplotlib inline\n",
    "import matplotlib.pyplot as plt\n",
    "import numpy as np\n",
    "a,x,y = symbols('a x y')\n",
    "y= exp((4*x)/5) + exp(5-x)"
   ]
  },
  {
   "cell_type": "code",
   "execution_count": 2,
   "id": "ba1484a5",
   "metadata": {},
   "outputs": [
    {
     "data": {
      "image/png": "[encoded data removed]",
      "text/plain": [
       "<Figure size 432x288 with 1 Axes>"
      ]
     },
     "metadata": {
      "needs_background": "light"
     },
     "output_type": "display_data"
    },
    {
     "data": {
      "text/plain": [
       "<sympy.plotting.plot.Plot at 0x219ba219820>"
      ]
     },
     "execution_count": 2,
     "metadata": {},
     "output_type": "execute_result"
    }
   ],
   "source": [
    "plot(y)"
   ]
  },
  {
   "cell_type": "code",
   "execution_count": 3,
   "id": "54e5d99f",
   "metadata": {},
   "outputs": [
    {
     "name": "stdout",
     "output_type": "stream",
     "text": [
      "4*exp(4*x/5)/5 - exp(5 - x)\n"
     ]
    },
    {
     "data": {
      "text/latex": [
       "$\\displaystyle \\frac{4 e^{\\frac{4 x}{5}}}{5} - e^{5 - x}$"
      ],
      "text/plain": [
       "4*exp(4*x/5)/5 - exp(5 - x)"
      ]
     },
     "execution_count": 3,
     "metadata": {},
     "output_type": "execute_result"
    }
   ],
   "source": [
    "yd= diff(exp((4*x)/5) + exp(5-x))\n",
    "print(yd)\n",
    "yd"
   ]
  },
  {
   "cell_type": "code",
   "execution_count": 4,
   "id": "8ae0bf5d",
   "metadata": {},
   "outputs": [
    {
     "name": "stdout",
     "output_type": "stream",
     "text": [
      "16*exp(4*x/5)/25 + exp(5 - x)\n"
     ]
    },
    {
     "data": {
      "text/latex": [
       "$\\displaystyle \\frac{16 e^{\\frac{4 x}{5}}}{25} + e^{5 - x}$"
      ],
      "text/plain": [
       "16*exp(4*x/5)/25 + exp(5 - x)"
      ]
     },
     "execution_count": 4,
     "metadata": {},
     "output_type": "execute_result"
    }
   ],
   "source": [
    "ydd= diff(4*exp(4*x/5)/5 - exp(5 - x))\n",
    "print(ydd)\n",
    "ydd"
   ]
  },
  {
   "cell_type": "code",
   "execution_count": 5,
   "id": "434a1cae",
   "metadata": {},
   "outputs": [
    {
     "name": "stdout",
     "output_type": "stream",
     "text": [
      "64*exp(4*x/5)/125 - exp(5 - x)\n"
     ]
    },
    {
     "data": {
      "text/latex": [
       "$\\displaystyle \\frac{64 e^{\\frac{4 x}{5}}}{125} - e^{5 - x}$"
      ],
      "text/plain": [
       "64*exp(4*x/5)/125 - exp(5 - x)"
      ]
     },
     "execution_count": 5,
     "metadata": {},
     "output_type": "execute_result"
    }
   ],
   "source": [
    "yddd= diff(16*exp(4*x/5)/25 + exp(5 - x))\n",
    "print(yddd)\n",
    "yddd"
   ]
  },
  {
   "cell_type": "code",
   "execution_count": 6,
   "id": "a6a8921a",
   "metadata": {},
   "outputs": [
    {
     "name": "stdout",
     "output_type": "stream",
     "text": [
      "256*exp(4*x/5)/625 + exp(5 - x)\n"
     ]
    },
    {
     "data": {
      "text/latex": [
       "$\\displaystyle \\frac{256 e^{\\frac{4 x}{5}}}{625} + e^{5 - x}$"
      ],
      "text/plain": [
       "256*exp(4*x/5)/625 + exp(5 - x)"
      ]
     },
     "execution_count": 6,
     "metadata": {},
     "output_type": "execute_result"
    }
   ],
   "source": [
    "ydddd= diff(64*exp(4*x/5)/125 - exp(5 - x))\n",
    "print(ydddd)\n",
    "ydddd"
   ]
  },
  {
   "cell_type": "markdown",
   "id": "6c193ae6",
   "metadata": {},
   "source": [
    "$ \\mathit{T_{n}} \\text{ + } \\mathit{e^{\\frac{4x}{5}}} \\text{ + } \\mathit{e^{5-x}}\n",
    "\\text{ + } \\left[ \\mathit{\\frac{4e^{\\frac{4x}{5}}}{5}} \\text{ - } \\mathit{e^{5-x}} \\right] \\mathit{({x-{x}_{0}})}\n",
    "\\text{ + } \\left[ \\mathit{\\frac{16e^{\\frac{4x}{5}}}{25}} \\text{ + } \\mathit{e^{5-x}} \\right] \\mathit{({x-{x}_{0}})}^{2} \\\\\n",
    "\\text{ + } \\left[ \\mathit{\\frac{64e^{\\frac{4x}{5}}}{125}} \\text{ - } \\mathit{e^{5-x}} \\right] \\mathit{({x-{x}_{0}})}^{3}\n",
    "\\text{ + } \\left[ \\frac{}{} \\mathit{\\frac{256e^{\\frac{4x}{5}}}{625}} \\text{ + } \\mathit{e^{5-x}} \\right] \\mathit{({x-{x}_{0}})}^{4} \n",
    "\\text{ + ... + }  \n",
    "\\left[ \\left(\\frac{4}{5}\\right)^{n} \\mathit{e^{\\frac{4x}{5}}} \\text{ + } \\mathit{(-1)^{n}e^{5-x}} \\right] \\mathit{({x-{x}_{0}})}^{n} \n",
    "$ "
   ]
  }
 ],
 "metadata": {
  "kernelspec": {
   "display_name": "Python 3",
   "language": "python",
   "name": "python3"
  },
  "language_info": {
   "codemirror_mode": {
    "name": "ipython",
    "version": 3
   },
   "file_extension": ".py",
   "mimetype": "text/x-python",
   "name": "python",
   "nbconvert_exporter": "python",
   "pygments_lexer": "ipython3",
   "version": "3.8.8"
  }
 },
 "nbformat": 4,
 "nbformat_minor": 5
}
