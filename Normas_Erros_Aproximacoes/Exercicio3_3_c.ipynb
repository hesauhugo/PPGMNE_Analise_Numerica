{
 "cells": [
  {
   "cell_type": "markdown",
   "id": "f84cbd9a",
   "metadata": {},
   "source": [
    "#### Exercício 3 da lista \n",
    "##### Polinômio de Taylor\n",
    "3.Considere a função  definida por "
   ]
  },
  {
   "cell_type": "markdown",
   "id": "91fd68ed",
   "metadata": {},
   "source": [
    "$ f(x) \\text{ = } exp\\left(\\frac{4x}{5} \\right)\n",
    "\\text{ + } exp\\left(5-x \\right)  $"
   ]
  },
  {
   "cell_type": "markdown",
   "id": "4b546874",
   "metadata": {},
   "source": [
    "(c) Para $x_{0} \\text{ = 0, determine empiricamente o menor } \\mathit{ k } \\text{ para o qual} | \\mathit{f(x) - T_{k}(x;x_{0}}| \\mathit{<0.5} \\text{, para todo } \\mathit{x \\in [0,5] } $"
   ]
  },
  {
   "cell_type": "code",
   "execution_count": 1,
   "id": "227ee480",
   "metadata": {},
   "outputs": [],
   "source": [
    "import sympy as sp\n",
    "import sympy.plotting as spplt\n",
    "%matplotlib inline\n",
    "import matplotlib.pyplot as plt\n",
    "import numpy as np\n",
    "a,x,y = sp.symbols('a x y')\n",
    "y = sp.exp(4*(x/5)) + sp.exp(5-x)"
   ]
  },
  {
   "cell_type": "code",
   "execution_count": 2,
   "id": "bb3d1d33",
   "metadata": {},
   "outputs": [
    {
     "data": {
      "image/png": "[encoded data removed]",
      "text/plain": [
       "<Figure size 432x288 with 1 Axes>"
      ]
     },
     "metadata": {
      "needs_background": "light"
     },
     "output_type": "display_data"
    },
    {
     "data": {
      "text/plain": [
       "<sympy.plotting.plot.Plot at 0x1a845af96a0>"
      ]
     },
     "execution_count": 2,
     "metadata": {},
     "output_type": "execute_result"
    }
   ],
   "source": [
    "spplt.plot(y)"
   ]
  },
  {
   "cell_type": "code",
   "execution_count": 3,
   "id": "0915ff68",
   "metadata": {},
   "outputs": [
    {
     "data": {
      "text/plain": [
       "<matplotlib.legend.Legend at 0x1a849660b80>"
      ]
     },
     "execution_count": 3,
     "metadata": {},
     "output_type": "execute_result"
    },
    {
     "data": {
      "image/png": "[encoded data removed]",
      "text/plain": [
       "<Figure size 432x288 with 1 Axes>"
      ]
     },
     "metadata": {
      "needs_background": "light"
     },
     "output_type": "display_data"
    }
   ],
   "source": [
    "xx = np.linspace(0,5,100)\n",
    "yy = np.exp(4*(xx/5)) + np.exp(5-xx)\n",
    "plt.figure(1)\n",
    "plt.plot(xx,yy,'-r',label = 'exp(4*(xx/5)) +exp(5-xx)')\n",
    "plt.legend()"
   ]
  },
  {
   "cell_type": "code",
   "execution_count": 4,
   "id": "e9bcd63a",
   "metadata": {},
   "outputs": [],
   "source": [
    "import math "
   ]
  },
  {
   "cell_type": "code",
   "execution_count": null,
   "id": "b2ccc263",
   "metadata": {},
   "outputs": [],
   "source": []
  },
  {
   "cell_type": "code",
   "execution_count": 5,
   "id": "9df03d68",
   "metadata": {},
   "outputs": [
    {
     "name": "stdout",
     "output_type": "stream",
     "text": [
      "x=  1.02 n =  50 erro =  0.037329053943018664\n",
      "x=  1.25 n =  4 erro =  0.31615131932287\n",
      "x=  1.53 n =  2 erro =  0.2203445113245408\n",
      "x=  2.79 n =  3 erro =  0.043086708564196385\n",
      "x=  3.31 n =  1 erro =  0.07871124228555004\n",
      "x=  3.32 n =  1 erro =  0.4009434781341845\n"
     ]
    }
   ],
   "source": [
    "x=0\n",
    "x0=0\n",
    "N=100\n",
    "s_n  = 0\n",
    "\n",
    "for i in range(0,500):\n",
    "    if i==0:\n",
    "        x = 0\n",
    "    else:\n",
    "        x = i/100\n",
    "    s_n  = 0    \n",
    "    for n in range(1,N):\n",
    "        s_n = s_n + (math.pow(4/5,n)*math.exp(4*x/5) + math.pow(-1,n)*math.exp(5-x))*math.pow((x-x0),n)\n",
    "        erro = abs(math.exp(4*(x/5)) + math.exp(5-x) - s_n)\n",
    "        if erro < 0.5:\n",
    "            print(\"x= \",x,\"n = \",n, \"erro = \",erro)\n",
    "  "
   ]
  },
  {
   "cell_type": "markdown",
   "id": "c3647408",
   "metadata": {},
   "source": [
    "O menor k encontrado empiricamente se dá quando $x=2,79 \\ k=3,\\ x_{0} = 0$"
   ]
  },
  {
   "cell_type": "code",
   "execution_count": null,
   "id": "cd0efbbd",
   "metadata": {},
   "outputs": [],
   "source": []
  }
 ],
 "metadata": {
  "kernelspec": {
   "display_name": "Python 3",
   "language": "python",
   "name": "python3"
  },
  "language_info": {
   "codemirror_mode": {
    "name": "ipython",
    "version": 3
   },
   "file_extension": ".py",
   "mimetype": "text/x-python",
   "name": "python",
   "nbconvert_exporter": "python",
   "pygments_lexer": "ipython3",
   "version": "3.8.8"
  }
 },
 "nbformat": 4,
 "nbformat_minor": 5
}
