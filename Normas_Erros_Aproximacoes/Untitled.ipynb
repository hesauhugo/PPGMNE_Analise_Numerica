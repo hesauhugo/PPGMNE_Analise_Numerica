{
 "cells": [
  {
   "cell_type": "code",
   "execution_count": 1,
   "id": "51060175",
   "metadata": {},
   "outputs": [],
   "source": [
    "import math"
   ]
  },
  {
   "cell_type": "code",
   "execution_count": 2,
   "id": "4d141a3f",
   "metadata": {},
   "outputs": [],
   "source": [
    "def Taylor(x,k):\n",
    "    x = x\n",
    "    exp1 = math.exp((4*x)/5)\n",
    "    exp2 = math.exp(5-x)\n",
    "\n",
    "    k= k\n",
    "\n",
    "    def funcao1(x,n):\n",
    "        return (math.pow((4/5),n))* math.pow((x),n)\n",
    "\n",
    "    def funcao2(x,n):\n",
    "        return (math.pow(-1,n))*((math.pow((x),n))/math.factorial(n))\n",
    "\n",
    "    somatorio = 0\n",
    "    for n in range(1,k+1):\n",
    "        somatorio = somatorio + exp1*funcao1(x,n) + exp2*funcao2(x,n)\n",
    "    \n",
    "    return somatorio\n"
   ]
  },
  {
   "cell_type": "code",
   "execution_count": 3,
   "id": "f5f80908",
   "metadata": {},
   "outputs": [],
   "source": [
    "def Erro(x):\n",
    "    x = x\n",
    "    for k  in range(1,100):\n",
    "        resultado = (math.exp((4*x)/5) + math.exp(5-x) )-Taylor(x,k)\n",
    "        if resultado >=0 and resultado < 0.5:\n",
    "            print(\"k= \",k,\"erro= \", resultado ,\"x = \", x)"
   ]
  },
  {
   "cell_type": "code",
   "execution_count": 4,
   "id": "f0470623",
   "metadata": {},
   "outputs": [
    {
     "name": "stdout",
     "output_type": "stream",
     "text": [
      "k=  5 erro=  0.133721578261774 x =  1.7\n",
      "k=  3 erro=  0.08383835966623465 x =  2.1\n"
     ]
    }
   ],
   "source": [
    "for i in range(1,50):\n",
    "    x = i/10\n",
    "    Erro(x)\n",
    "   "
   ]
  },
  {
   "cell_type": "code",
   "execution_count": null,
   "id": "cd5c132a",
   "metadata": {},
   "outputs": [],
   "source": []
  }
 ],
 "metadata": {
  "kernelspec": {
   "display_name": "Python 3",
   "language": "python",
   "name": "python3"
  },
  "language_info": {
   "codemirror_mode": {
    "name": "ipython",
    "version": 3
   },
   "file_extension": ".py",
   "mimetype": "text/x-python",
   "name": "python",
   "nbconvert_exporter": "python",
   "pygments_lexer": "ipython3",
   "version": "3.8.8"
  }
 },
 "nbformat": 4,
 "nbformat_minor": 5
}
