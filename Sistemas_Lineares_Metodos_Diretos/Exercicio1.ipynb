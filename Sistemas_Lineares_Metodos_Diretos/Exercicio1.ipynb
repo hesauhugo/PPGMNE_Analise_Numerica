{
 "cells": [
  {
   "cell_type": "markdown",
   "id": "e8ce231e",
   "metadata": {},
   "source": [
    "### Exercício 1\n",
    "1. Escreva a fórmula explícita para a solução de um sistema linear triangular inferior."
   ]
  },
  {
   "cell_type": "markdown",
   "id": "5d8061aa",
   "metadata": {},
   "source": [
    "#### Resposta"
   ]
  },
  {
   "cell_type": "markdown",
   "id": "e157164d",
   "metadata": {},
   "source": [
    "Como exemplo usaremos uma matriz triangular inferior de ordem quatro com a seguinte forma.\n",
    "$\n",
    "\\left\\{\n",
    "\\begin{array}{lll}\n",
    "a_{11}x_1 & = & b_1\\\\\n",
    "a_{21}x_1 + a_{22}x_2 & = & b_2\\\\\n",
    "a_{31}x_1 + a_{32}x_2 + a_{33}x_3 & = & b_3 \\\\\n",
    "a_{41}x_1 + a_{42}x_2 + a_{43}x_3 + a_{44}x_4 & = & b_4\n",
    "\\end{array}\n",
    "\\right.\\\n",
    "$"
   ]
  },
  {
   "cell_type": "markdown",
   "id": "f3f46b4a",
   "metadata": {},
   "source": [
    "A formulação para a solução linear triangular pode ser expressada pela seguinte fórumula."
   ]
  },
  {
   "cell_type": "markdown",
   "id": "87fd0f36",
   "metadata": {},
   "source": [
    "$\n",
    "\\mathit{ x_k = } \\frac{ b_k  -  \\sum\\limits_{j=1}^{k-1}a_{kj}x{j} }{a_{kk}} \\mathit{, k = 1, ...,n}\n",
    "$"
   ]
  },
  {
   "cell_type": "code",
   "execution_count": null,
   "id": "2d89ed37",
   "metadata": {},
   "outputs": [],
   "source": []
  }
 ],
 "metadata": {
  "kernelspec": {
   "display_name": "Python 3",
   "language": "python",
   "name": "python3"
  },
  "language_info": {
   "codemirror_mode": {
    "name": "ipython",
    "version": 3
   },
   "file_extension": ".py",
   "mimetype": "text/x-python",
   "name": "python",
   "nbconvert_exporter": "python",
   "pygments_lexer": "ipython3",
   "version": "3.8.8"
  }
 },
 "nbformat": 4,
 "nbformat_minor": 5
}
