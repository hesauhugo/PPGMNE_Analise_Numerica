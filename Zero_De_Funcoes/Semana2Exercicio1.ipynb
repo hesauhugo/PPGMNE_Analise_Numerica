{
 "cells": [
  {
   "cell_type": "markdown",
   "id": "18780e75",
   "metadata": {},
   "source": [
    "#### Exercício 1"
   ]
  },
  {
   "cell_type": "markdown",
   "id": "6c7659eb",
   "metadata": {},
   "source": [
    "$\\text{Considere um intervalo real } \\mathit{[a;b] } \\text{ contendo uma raiz de uma função } \\mathit{f} \n",
    "\\\\ \\text{definada e contínua nesse intervalo.}\n",
    "\\\\ \\text{Moste que o número de iterações, } \\mathit{k} \\text{ pode ser estimado pela fórmula:}\n",
    "\\\\\n",
    "\\mathit{k} \\ge \\frac{ln(b-a) - ln\\varepsilon}{ln2} \n",
    "$"
   ]
  },
  {
   "cell_type": "markdown",
   "id": "5ac687f5",
   "metadata": {},
   "source": [
    "#### Resposta:"
   ]
  },
  {
   "cell_type": "markdown",
   "id": "7c3fd47b",
   "metadata": {},
   "source": [
    "$\\text{Seja } \\mathit{f(x) = x^3 + 4x^2-10=0} \\text{ com uma precisão de } \\mathit{10^{-3}}\n",
    "\\\\ \\text{, e } \\mathit{a_1 = 1 } \\text{ e } \\mathit{ b_1 = 2}$"
   ]
  },
  {
   "cell_type": "markdown",
   "id": "0d60ff6d",
   "metadata": {},
   "source": [
    "$\n",
    "\\text{Será usado logaritimos para encontrar um inteiro } \\mathit{k} \\text{ que satisfaça}\n",
    "\\\\\n",
    "\\mathit{|p_k -p|} \\le \\mathit{2^{-k}(b-a) = 2^{-k}}  \\mathit{< 10^{-3}}\n",
    "$"
   ]
  },
  {
   "cell_type": "markdown",
   "id": "bf82f464",
   "metadata": {},
   "source": [
    "$ \\text{Bastariam logaritmos em qualquer base, mas será usado logaritmos na base 10}\n",
    "\\\\ \\text{ porque a tolerância é dada como uma potência de 10.}\n",
    "\\\\ \\text{ Já que } \\mathit{2^{-k} < 10^{-3}} \\text{ Implica que } \\mathit{log_{10}2^{-k}<log_{10}10^{-3} = -3} $"
   ]
  },
  {
   "cell_type": "code",
   "execution_count": 1,
   "id": "53b3b014",
   "metadata": {},
   "outputs": [],
   "source": [
    "import math"
   ]
  },
  {
   "cell_type": "code",
   "execution_count": 2,
   "id": "f3269810",
   "metadata": {},
   "outputs": [
    {
     "data": {
      "text/plain": [
       "10.965784284662087"
      ]
     },
     "execution_count": 2,
     "metadata": {},
     "output_type": "execute_result"
    }
   ],
   "source": [
    "a=0\n",
    "b=2\n",
    "precisao = math.pow(10,-3)\n",
    "k = (math.log(b-a,10) - math.log(precisao,10)) / math.log(2,10)\n",
    "k"
   ]
  },
  {
   "cell_type": "markdown",
   "id": "cfc5ffa3",
   "metadata": {},
   "source": [
    "$\n",
    "\\text{Sendo assim temos que dez iterações garantirão uma aproximação com precisão de} \\mathit{10^{-3}}\n",
    "$"
   ]
  },
  {
   "cell_type": "code",
   "execution_count": 3,
   "id": "c4e82b6f",
   "metadata": {},
   "outputs": [
    {
     "data": {
      "text/plain": [
       "<matplotlib.legend.Legend at 0x127af0d4250>"
      ]
     },
     "execution_count": 3,
     "metadata": {},
     "output_type": "execute_result"
    },
    {
     "data": {
      "image/png": "[encoded data removed]",
      "text/plain": [
       "<Figure size 432x288 with 1 Axes>"
      ]
     },
     "metadata": {
      "needs_background": "light"
     },
     "output_type": "display_data"
    }
   ],
   "source": [
    "%matplotlib inline\n",
    "import matplotlib.pyplot as plt\n",
    "import numpy as np\n",
    "\n",
    "xx = np.linspace(-5,5,50)\n",
    "plt.figure(1)\n",
    "y= xx**3 + 4*xx**2 - 10\n",
    "plt.plot(xx,y,'-r',label = 'x^3 + 4x^2 - 10')\n",
    "plt.legend()"
   ]
  },
  {
   "cell_type": "code",
   "execution_count": 4,
   "id": "d1ba62c0",
   "metadata": {},
   "outputs": [],
   "source": [
    "def fx(x):\n",
    "    return math.pow(x,3) + math.pow(4*x,2) - 10"
   ]
  },
  {
   "cell_type": "code",
   "execution_count": 5,
   "id": "0f5ce87c",
   "metadata": {},
   "outputs": [
    {
     "name": "stdout",
     "output_type": "stream",
     "text": [
      "-620.0\n"
     ]
    }
   ],
   "source": [
    "print(fx(a)*fx(b))"
   ]
  },
  {
   "cell_type": "code",
   "execution_count": 6,
   "id": "0788e2a3",
   "metadata": {},
   "outputs": [
    {
     "name": "stdout",
     "output_type": "stream",
     "text": [
      "x=  0.7724609375 iteracoes = 11 f(x) =  0.008058673702180386\n"
     ]
    }
   ],
   "source": [
    "x = a\n",
    "it = 0\n",
    "while True:\n",
    "    it +=1 \n",
    "    xOld = x\n",
    "    x=a+((b-a)/2)\n",
    "\n",
    "    if fx(a)*fx(x) < 0:\n",
    "        b=x\n",
    "    else:\n",
    "        a=x\n",
    "    \n",
    "    Er = abs(x-xOld/x)\n",
    "    if Er < precisao or it > 10:\n",
    "        break        \n",
    "    \n",
    "print(\"x= \", x,\"iteracoes =\", it,\"f(x) = \",fx(x))        "
   ]
  },
  {
   "cell_type": "markdown",
   "id": "8132b4ea",
   "metadata": {},
   "source": [
    "$\\text{Conforme pudemos observar no algoritmo do calculo aproximado do zero da função}\n",
    "\\\\ \\text{ aproximadamente 10 iterações foram realizadas para que o x chegasse em 0.772}\n",
    "\\\\ \\text{ com um valor de f(x) = 0.008}$"
   ]
  },
  {
   "cell_type": "code",
   "execution_count": 7,
   "id": "91ddb52f",
   "metadata": {},
   "outputs": [
    {
     "data": {
      "text/plain": [
       "<matplotlib.legend.Legend at 0x127b1a0fb20>"
      ]
     },
     "execution_count": 7,
     "metadata": {},
     "output_type": "execute_result"
    },
    {
     "data": {
      "image/png": "[encoded data removed]",
      "text/plain": [
       "<Figure size 432x288 with 1 Axes>"
      ]
     },
     "metadata": {
      "needs_background": "light"
     },
     "output_type": "display_data"
    }
   ],
   "source": [
    "xx = np.linspace(-5,5,50)\n",
    "plt.figure(1)\n",
    "y= xx**3 + 4*xx**2 - 10\n",
    "plt.plot(xx,y,'-r',label = 'x^3 + 4x^2 - 10')\n",
    "plt.plot(0.772,0.008,'-g',label = 'zero aprox',marker = 'o')\n",
    "plt.legend()"
   ]
  },
  {
   "cell_type": "code",
   "execution_count": null,
   "id": "891a42b4",
   "metadata": {},
   "outputs": [],
   "source": []
  },
  {
   "cell_type": "code",
   "execution_count": null,
   "id": "fa09e87d",
   "metadata": {},
   "outputs": [],
   "source": []
  }
 ],
 "metadata": {
  "kernelspec": {
   "display_name": "Python 3",
   "language": "python",
   "name": "python3"
  },
  "language_info": {
   "codemirror_mode": {
    "name": "ipython",
    "version": 3
   },
   "file_extension": ".py",
   "mimetype": "text/x-python",
   "name": "python",
   "nbconvert_exporter": "python",
   "pygments_lexer": "ipython3",
   "version": "3.8.8"
  }
 },
 "nbformat": 4,
 "nbformat_minor": 5
}
