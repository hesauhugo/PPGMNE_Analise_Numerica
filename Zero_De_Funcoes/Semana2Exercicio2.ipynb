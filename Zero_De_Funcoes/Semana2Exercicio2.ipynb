{
 "cells": [
  {
   "cell_type": "markdown",
   "id": "6d016070",
   "metadata": {},
   "source": [
    "#### Exercício 2"
   ]
  },
  {
   "cell_type": "markdown",
   "id": "e93562b8",
   "metadata": {},
   "source": [
    "$\n",
    "\\text{Considere } \\mathit{f:[0,1] \\rightarrow} \\mathbb{R} \\text{ definida por } \\mathit{f(x) = \\sqrt{x} - cosx} \\text{ e } \\mathit{ \\varepsilon = 10^{-4}}.\n",
    "$"
   ]
  },
  {
   "cell_type": "markdown",
   "id": "32046676",
   "metadata": {},
   "source": [
    "$\\text{(a) Estime, utilizando a fórmula deduzida no exercício 1, o número de iterações executadas pelo Método da Bissecção, para encontrar uma raiz de } \\matit{f} \\text{ no intervalo dado.}$"
   ]
  },
  {
   "cell_type": "code",
   "execution_count": 1,
   "id": "51135c4d",
   "metadata": {},
   "outputs": [],
   "source": [
    "import math"
   ]
  },
  {
   "cell_type": "code",
   "execution_count": 2,
   "id": "282fdac0",
   "metadata": {},
   "outputs": [
    {
     "data": {
      "text/plain": [
       "13.287712379549449"
      ]
     },
     "execution_count": 2,
     "metadata": {},
     "output_type": "execute_result"
    }
   ],
   "source": [
    "a=0\n",
    "b=1\n",
    "precisao = 10**-4\n",
    "k = (math.log(b-a,10) - math.log(precisao,10)) / math.log(2,10)\n",
    "k"
   ]
  },
  {
   "cell_type": "markdown",
   "id": "db084e0d",
   "metadata": {},
   "source": [
    "##### Resposta a:\n",
    "$ k \\approx \\mathit{14} $ "
   ]
  },
  {
   "cell_type": "markdown",
   "id": "3e8260a7",
   "metadata": {},
   "source": [
    "$\n",
    "\\text{(b) Determine um zero de } f \\text{, no intervalo dado, pelo algoritimo que você implementou para o método da bissecção}\n",
    "$"
   ]
  },
  {
   "cell_type": "code",
   "execution_count": 3,
   "id": "a1b0963f",
   "metadata": {},
   "outputs": [
    {
     "name": "stderr",
     "output_type": "stream",
     "text": [
      "<ipython-input-3-bbbc15d7e0dd>:7: RuntimeWarning: invalid value encountered in sqrt\n",
      "  y= np.sqrt(xx)-np.cos(xx)\n"
     ]
    },
    {
     "data": {
      "text/plain": [
       "<matplotlib.legend.Legend at 0x17c3a75aee0>"
      ]
     },
     "execution_count": 3,
     "metadata": {},
     "output_type": "execute_result"
    },
    {
     "data": {
      "image/png": "[encoded data removed]",
      "text/plain": [
       "<Figure size 432x288 with 1 Axes>"
      ]
     },
     "metadata": {
      "needs_background": "light"
     },
     "output_type": "display_data"
    }
   ],
   "source": [
    "%matplotlib inline\n",
    "import matplotlib.pyplot as plt\n",
    "import numpy as np\n",
    "\n",
    "xx = np.linspace(-2,2,50)\n",
    "plt.figure(1)\n",
    "y= np.sqrt(xx)-np.cos(xx)\n",
    "plt.plot(xx,y,'-r',label = '√x - cos(x)')\n",
    "plt.legend()"
   ]
  },
  {
   "cell_type": "code",
   "execution_count": 4,
   "id": "bb04660c",
   "metadata": {},
   "outputs": [],
   "source": [
    "def fx(x):\n",
    "    return math.sqrt(x)-math.cos(x)"
   ]
  },
  {
   "cell_type": "code",
   "execution_count": 5,
   "id": "66439ad3",
   "metadata": {},
   "outputs": [
    {
     "name": "stdout",
     "output_type": "stream",
     "text": [
      "-0.45969769413186023\n"
     ]
    }
   ],
   "source": [
    "print(fx(a)*fx(b))"
   ]
  },
  {
   "cell_type": "code",
   "execution_count": 6,
   "id": "e03c7778",
   "metadata": {},
   "outputs": [
    {
     "name": "stdout",
     "output_type": "stream",
     "text": [
      "x=  0.6417236328125 f(x) =  1.1324904157783422e-05\n"
     ]
    }
   ],
   "source": [
    "x = a\n",
    "k=14\n",
    "for kBarra in range(1,k):\n",
    "    xOld = x\n",
    "    x=(a+b)/2\n",
    "\n",
    "    if fx(a)*fx(x) < 0:\n",
    "        b=x\n",
    "    else:\n",
    "        a=x  \n",
    "    print(\"a= \", a,\"f(x) = \",fx(x))  "
   ]
  },
  {
   "cell_type": "code",
   "execution_count": 7,
   "id": "756314a1",
   "metadata": {},
   "outputs": [
    {
     "name": "stderr",
     "output_type": "stream",
     "text": [
      "<ipython-input-7-170753f7b8ae>:3: RuntimeWarning: invalid value encountered in sqrt\n",
      "  y= np.sqrt(xx)-np.cos(xx)\n"
     ]
    },
    {
     "data": {
      "text/plain": [
       "<matplotlib.legend.Legend at 0x17c3c9a07c0>"
      ]
     },
     "execution_count": 7,
     "metadata": {},
     "output_type": "execute_result"
    },
    {
     "data": {
      "image/png": "[encoded data removed]",
      "text/plain": [
       "<Figure size 432x288 with 1 Axes>"
      ]
     },
     "metadata": {
      "needs_background": "light"
     },
     "output_type": "display_data"
    }
   ],
   "source": [
    "xx = np.linspace(-2,2,50)\n",
    "plt.figure(1)\n",
    "y= np.sqrt(xx)-np.cos(xx)\n",
    "plt.plot(xx,y,'-r',label = '√x - cos(x)')\n",
    "plt.plot(0.6417236328125,0,'-',label = 'P',marker = 'o')\n",
    "plt.legend()"
   ]
  },
  {
   "cell_type": "markdown",
   "id": "6e14164a",
   "metadata": {},
   "source": [
    "##### Resposta b:\n",
    "$\n",
    "\\text{Com 14 iterações encontramos x=  0.6417236328125  e f(x) =  1.1324904157783422e-05}\n",
    "$"
   ]
  },
  {
   "cell_type": "code",
   "execution_count": null,
   "id": "d761153b",
   "metadata": {},
   "outputs": [],
   "source": []
  }
 ],
 "metadata": {
  "kernelspec": {
   "display_name": "Python 3",
   "language": "python",
   "name": "python3"
  },
  "language_info": {
   "codemirror_mode": {
    "name": "ipython",
    "version": 3
   },
   "file_extension": ".py",
   "mimetype": "text/x-python",
   "name": "python",
   "nbconvert_exporter": "python",
   "pygments_lexer": "ipython3",
   "version": "3.8.8"
  }
 },
 "nbformat": 4,
 "nbformat_minor": 5
}
