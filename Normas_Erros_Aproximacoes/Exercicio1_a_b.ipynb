{
 "cells": [
  {
   "cell_type": "markdown",
   "id": "a3b06698",
   "metadata": {},
   "source": [
    "### Exercício 1\n",
    "$ \\text{Suponha que dois pontos } \\mathit{(x_0,y_0)} \\text{ e } \\mathit{(x_1,y_1)} \\text{estejam em uma reta, com} \\mathit{y_1} \\neq \\mathit{y_0} \\text{Há duas formas disponíveis para determinar a intersecção da reta com o eixo } \\mathit{x:} \\\\\n",
    "\\mathit{x =} \\frac{x_0y_1 - x_1y_0}{y_1 - y_0} \\text{ e }\n",
    "\\mathit{x = x_0 - } \\frac{(x_1 - x_0)y_0}{y_1 - y_0} \n",
    "$ "
   ]
  },
  {
   "cell_type": "markdown",
   "id": "6bdd55cf",
   "metadata": {},
   "source": [
    "a) mostre que ambas s fórmulas são algebricamente corretas"
   ]
  },
  {
   "cell_type": "markdown",
   "id": "77a55377",
   "metadata": {},
   "source": [
    "$\\frac{(y_1 - y_0)x_0 - (x_1 - x_0)y_0 }{y_1 - y_0} \\Rightarrow\n",
    "\\frac{(x_0y_1 - x_0y_0) - (x_1y_0 - x_0y_0)}{y_1 - y_0} \\Rightarrow\n",
    "\\frac{x_0y_1 - x_1y_0}{y_1 - y_0}\n",
    "$"
   ]
  },
  {
   "cell_type": "markdown",
   "id": "a52fae93",
   "metadata": {},
   "source": [
    "$\\text{b) Use os dados } \\mathit{(x_0,y_0)} \\text{ = (1,31,3,24) e} \\mathit{(x_1,y_1)}\\text{ = (1,93,4,76) } \\\\\n",
    "\\text{e a aritmética de arredondamento, com três algarismos, para calcular a }\\\\ \\text{intersecção com o eixo x das duas maneiras.} \\\\ \\text{Qual método é melhor e porque?}\n",
    "$"
   ]
  },
  {
   "cell_type": "code",
   "execution_count": 1,
   "id": "daf87094",
   "metadata": {},
   "outputs": [],
   "source": [
    "x0 = 1.31\n",
    "y0 = 3.24\n",
    "x1 = 1.93\n",
    "y1 = 4.76"
   ]
  },
  {
   "cell_type": "code",
   "execution_count": 2,
   "id": "8ac28709",
   "metadata": {},
   "outputs": [
    {
     "data": {
      "text/plain": [
       "-0.011"
      ]
     },
     "execution_count": 2,
     "metadata": {},
     "output_type": "execute_result"
    }
   ],
   "source": [
    "primeiraForma = (round(x0*y1,3) - round(x1*y0,3)) / (round(y1-y0,3))\n",
    "round(primeiraForma,3)"
   ]
  },
  {
   "cell_type": "code",
   "execution_count": 3,
   "id": "1c48b312",
   "metadata": {},
   "outputs": [
    {
     "data": {
      "text/plain": [
       "-0.012"
      ]
     },
     "execution_count": 3,
     "metadata": {},
     "output_type": "execute_result"
    }
   ],
   "source": [
    "xx0 = x1 - x0\n",
    "segundaForma = x0 - (round(round(xx0,3)*y0,3))/(round(y1-y0,3))\n",
    "round(segundaForma,3)"
   ]
  },
  {
   "cell_type": "code",
   "execution_count": 4,
   "id": "7db09c93",
   "metadata": {},
   "outputs": [
    {
     "data": {
      "text/plain": [
       "-0.011578947368421534"
      ]
     },
     "execution_count": 4,
     "metadata": {},
     "output_type": "execute_result"
    }
   ],
   "source": [
    "primeiraFormaSemArredondar =  ((x0*y1) - (x1*y0)) / (y1-y0)\n",
    "primeiraFormaSemArredondar"
   ]
  },
  {
   "cell_type": "code",
   "execution_count": 5,
   "id": "c9fb842f",
   "metadata": {},
   "outputs": [
    {
     "data": {
      "text/plain": [
       "-0.011578947368421355"
      ]
     },
     "execution_count": 5,
     "metadata": {},
     "output_type": "execute_result"
    }
   ],
   "source": [
    "segundaFormaSemArredondar = x0 - ((xx0)*y0)/(y1-y0)\n",
    "segundaFormaSemArredondar"
   ]
  },
  {
   "cell_type": "code",
   "execution_count": 6,
   "id": "51515c35",
   "metadata": {},
   "outputs": [
    {
     "data": {
      "text/plain": [
       "0.03409090909092945"
      ]
     },
     "execution_count": 6,
     "metadata": {},
     "output_type": "execute_result"
    }
   ],
   "source": [
    "erroPrimeiraForma = abs((primeiraFormaSemArredondar-primeiraForma)/primeiraFormaSemArredondar)\n",
    "erroPrimeiraForma"
   ]
  },
  {
   "cell_type": "code",
   "execution_count": 7,
   "id": "de1ae726",
   "metadata": {},
   "outputs": [
    {
     "data": {
      "text/plain": [
       "0.011363636363593435"
      ]
     },
     "execution_count": 7,
     "metadata": {},
     "output_type": "execute_result"
    }
   ],
   "source": [
    "erroSegundaForma = abs((segundaFormaSemArredondar-segundaForma)/segundaFormaSemArredondar)\n",
    "erroSegundaForma"
   ]
  },
  {
   "cell_type": "markdown",
   "id": "b7d7760a",
   "metadata": {},
   "source": [
    "Concluí-se então que a segunda forma é a melhor pois ela traz um erro relativo melhor do que a primeira forma."
   ]
  }
 ],
 "metadata": {
  "kernelspec": {
   "display_name": "Python 3",
   "language": "python",
   "name": "python3"
  },
  "language_info": {
   "codemirror_mode": {
    "name": "ipython",
    "version": 3
   },
   "file_extension": ".py",
   "mimetype": "text/x-python",
   "name": "python",
   "nbconvert_exporter": "python",
   "pygments_lexer": "ipython3",
   "version": "3.8.8"
  }
 },
 "nbformat": 4,
 "nbformat_minor": 5
}
