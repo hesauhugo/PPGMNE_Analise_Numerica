{
 "cells": [
  {
   "attachments": {
    "image.png": {
     "image/png": "[encoded data removed]"
    }
   },
   "cell_type": "markdown",
   "id": "d4e9c4b4",
   "metadata": {},
   "source": [
    "### Exercício 3\n",
    "![image.png](attachment:image.png)"
   ]
  },
  {
   "cell_type": "code",
   "execution_count": 1,
   "id": "c31152ae",
   "metadata": {},
   "outputs": [],
   "source": [
    "C = [\n",
    "     [2,1,1,3,-2],\n",
    "     [-2,-2,1,1,-3],\n",
    "     [6,5,2,2,5],\n",
    "     [-4,-3,6,5,-9]\n",
    "    ]\n",
    "D = [\n",
    "    [2,1,1,3,0],\n",
    "    [-2,-2,1,1,-4],\n",
    "    [6,5,2,2,0],\n",
    "    [-4,-3,6,5,-15]\n",
    "]    "
   ]
  },
  {
   "cell_type": "code",
   "execution_count": 2,
   "id": "892814ce",
   "metadata": {},
   "outputs": [
    {
     "name": "stdout",
     "output_type": "stream",
     "text": [
      "[2, 1, 1, 3, -2]\n",
      "[-2, -2, 1, 1, -3]\n",
      "[6, 5, 2, 2, 5]\n",
      "[-4, -3, 6, 5, -9]\n",
      "\n",
      "\n",
      "[2, 1, 1, 3, 0]\n",
      "[-2, -2, 1, 1, -4]\n",
      "[6, 5, 2, 2, 0]\n",
      "[-4, -3, 6, 5, -15]\n",
      "\n",
      "\n"
     ]
    }
   ],
   "source": [
    "def operacaoElementar(C,lAtual,lAnterior,pivo):\n",
    "    for i in range(len(C)):\n",
    "        print(\"pivo\",pivo,\"C[lAnterior][i]\",C[lAnterior][i],\"C[lAtual][i]=\",C[lAtual][i])\n",
    "        C[lAtual][i]= pivo*C[lAnterior][i] + C[lAtual][i]\n",
    "    return C\n",
    "\n",
    "def printaMatriz(C):\n",
    "    for c in C:\n",
    "        print(c)\n",
    "    print(\"\\n\")    \n",
    "printaMatriz(C)    \n",
    "printaMatriz(D) "
   ]
  },
  {
   "cell_type": "code",
   "execution_count": 3,
   "id": "a2ec8e68",
   "metadata": {},
   "outputs": [
    {
     "name": "stdout",
     "output_type": "stream",
     "text": [
      "pivo 1 C[lAnterior][i] 2 C[lAtual][i]= -2\n",
      "pivo 1 C[lAnterior][i] 1 C[lAtual][i]= -2\n",
      "pivo 1 C[lAnterior][i] 1 C[lAtual][i]= 1\n",
      "pivo 1 C[lAnterior][i] 3 C[lAtual][i]= 1\n",
      "[2, 1, 1, 3, -2]\n",
      "[0, -1, 2, 4, -3]\n",
      "[6, 5, 2, 2, 5]\n",
      "[-4, -3, 6, 5, -9]\n",
      "\n",
      "\n"
     ]
    }
   ],
   "source": [
    "C = operacaoElementar(C,1,0,1)\n",
    "printaMatriz(C)"
   ]
  },
  {
   "cell_type": "code",
   "execution_count": 4,
   "id": "1062a47c",
   "metadata": {},
   "outputs": [
    {
     "name": "stdout",
     "output_type": "stream",
     "text": [
      "pivo -3 C[lAnterior][i] 2 C[lAtual][i]= 6\n",
      "pivo -3 C[lAnterior][i] 1 C[lAtual][i]= 5\n",
      "pivo -3 C[lAnterior][i] 1 C[lAtual][i]= 2\n",
      "pivo -3 C[lAnterior][i] 3 C[lAtual][i]= 2\n",
      "[2, 1, 1, 3, -2]\n",
      "[0, -1, 2, 4, -3]\n",
      "[0, 2, -1, -7, 5]\n",
      "[-4, -3, 6, 5, -9]\n",
      "\n",
      "\n"
     ]
    }
   ],
   "source": [
    "C = operacaoElementar(C,2,0,-3)\n",
    "printaMatriz(C)"
   ]
  },
  {
   "cell_type": "code",
   "execution_count": 5,
   "id": "08415be4",
   "metadata": {},
   "outputs": [
    {
     "name": "stdout",
     "output_type": "stream",
     "text": [
      "pivo 2 C[lAnterior][i] 2 C[lAtual][i]= -4\n",
      "pivo 2 C[lAnterior][i] 1 C[lAtual][i]= -3\n",
      "pivo 2 C[lAnterior][i] 1 C[lAtual][i]= 6\n",
      "pivo 2 C[lAnterior][i] 3 C[lAtual][i]= 5\n",
      "[2, 1, 1, 3, -2]\n",
      "[0, -1, 2, 4, -3]\n",
      "[0, 2, -1, -7, 5]\n",
      "[0, -1, 8, 11, -9]\n",
      "\n",
      "\n"
     ]
    }
   ],
   "source": [
    "C = operacaoElementar(C,3,0,2)\n",
    "printaMatriz(C)"
   ]
  },
  {
   "cell_type": "code",
   "execution_count": 6,
   "id": "5f71fc8f",
   "metadata": {},
   "outputs": [
    {
     "name": "stdout",
     "output_type": "stream",
     "text": [
      "pivo 2 C[lAnterior][i] 0 C[lAtual][i]= 0\n",
      "pivo 2 C[lAnterior][i] -1 C[lAtual][i]= 2\n",
      "pivo 2 C[lAnterior][i] 2 C[lAtual][i]= -1\n",
      "pivo 2 C[lAnterior][i] 4 C[lAtual][i]= -7\n",
      "[2, 1, 1, 3, -2]\n",
      "[0, -1, 2, 4, -3]\n",
      "[0, 0, 3, 1, 5]\n",
      "[0, -1, 8, 11, -9]\n",
      "\n",
      "\n"
     ]
    }
   ],
   "source": [
    "C = operacaoElementar(C,2,1,2)\n",
    "printaMatriz(C)"
   ]
  },
  {
   "cell_type": "code",
   "execution_count": 7,
   "id": "e03bb880",
   "metadata": {},
   "outputs": [
    {
     "name": "stdout",
     "output_type": "stream",
     "text": [
      "pivo -1 C[lAnterior][i] 0 C[lAtual][i]= 0\n",
      "pivo -1 C[lAnterior][i] -1 C[lAtual][i]= -1\n",
      "pivo -1 C[lAnterior][i] 2 C[lAtual][i]= 8\n",
      "pivo -1 C[lAnterior][i] 4 C[lAtual][i]= 11\n",
      "[2, 1, 1, 3, -2]\n",
      "[0, -1, 2, 4, -3]\n",
      "[0, 0, 3, 1, 5]\n",
      "[0, 0, 6, 7, -9]\n",
      "\n",
      "\n"
     ]
    }
   ],
   "source": [
    "C = operacaoElementar(C,3,1,-1)\n",
    "printaMatriz(C)"
   ]
  },
  {
   "cell_type": "code",
   "execution_count": 8,
   "id": "5d19fe05",
   "metadata": {},
   "outputs": [
    {
     "name": "stdout",
     "output_type": "stream",
     "text": [
      "pivo -2 C[lAnterior][i] 0 C[lAtual][i]= 0\n",
      "pivo -2 C[lAnterior][i] 0 C[lAtual][i]= 0\n",
      "pivo -2 C[lAnterior][i] 3 C[lAtual][i]= 6\n",
      "pivo -2 C[lAnterior][i] 1 C[lAtual][i]= 7\n",
      "[2, 1, 1, 3, -2]\n",
      "[0, -1, 2, 4, -3]\n",
      "[0, 0, 3, 1, 5]\n",
      "[0, 0, 0, 5, -9]\n",
      "\n",
      "\n"
     ]
    }
   ],
   "source": [
    "C = operacaoElementar(C,3,2,-2)\n",
    "printaMatriz(C)"
   ]
  },
  {
   "cell_type": "code",
   "execution_count": 9,
   "id": "86a50633",
   "metadata": {},
   "outputs": [
    {
     "name": "stdout",
     "output_type": "stream",
     "text": [
      "pivo 1 C[lAnterior][i] 2 C[lAtual][i]= -2\n",
      "pivo 1 C[lAnterior][i] 1 C[lAtual][i]= -2\n",
      "pivo 1 C[lAnterior][i] 1 C[lAtual][i]= 1\n",
      "pivo 1 C[lAnterior][i] 3 C[lAtual][i]= 1\n",
      "[2, 1, 1, 3, 0]\n",
      "[0, -1, 2, 4, -4]\n",
      "[6, 5, 2, 2, 0]\n",
      "[-4, -3, 6, 5, -15]\n",
      "\n",
      "\n"
     ]
    }
   ],
   "source": [
    "D = operacaoElementar(D,1,0,1)\n",
    "printaMatriz(D)"
   ]
  },
  {
   "cell_type": "code",
   "execution_count": 10,
   "id": "d5fa1ea2",
   "metadata": {},
   "outputs": [
    {
     "name": "stdout",
     "output_type": "stream",
     "text": [
      "pivo -3 C[lAnterior][i] 2 C[lAtual][i]= 6\n",
      "pivo -3 C[lAnterior][i] 1 C[lAtual][i]= 5\n",
      "pivo -3 C[lAnterior][i] 1 C[lAtual][i]= 2\n",
      "pivo -3 C[lAnterior][i] 3 C[lAtual][i]= 2\n",
      "[2, 1, 1, 3, 0]\n",
      "[0, -1, 2, 4, -4]\n",
      "[0, 2, -1, -7, 0]\n",
      "[-4, -3, 6, 5, -15]\n",
      "\n",
      "\n"
     ]
    }
   ],
   "source": [
    "D = operacaoElementar(D,2,0,-3)\n",
    "printaMatriz(D)"
   ]
  },
  {
   "cell_type": "code",
   "execution_count": 11,
   "id": "b30d8114",
   "metadata": {},
   "outputs": [
    {
     "name": "stdout",
     "output_type": "stream",
     "text": [
      "pivo 2 C[lAnterior][i] 2 C[lAtual][i]= -4\n",
      "pivo 2 C[lAnterior][i] 1 C[lAtual][i]= -3\n",
      "pivo 2 C[lAnterior][i] 1 C[lAtual][i]= 6\n",
      "pivo 2 C[lAnterior][i] 3 C[lAtual][i]= 5\n",
      "[2, 1, 1, 3, 0]\n",
      "[0, -1, 2, 4, -4]\n",
      "[0, 2, -1, -7, 0]\n",
      "[0, -1, 8, 11, -15]\n",
      "\n",
      "\n"
     ]
    }
   ],
   "source": [
    "D = operacaoElementar(D,3,0,2)\n",
    "printaMatriz(D)"
   ]
  },
  {
   "cell_type": "code",
   "execution_count": 12,
   "id": "3061649e",
   "metadata": {},
   "outputs": [
    {
     "name": "stdout",
     "output_type": "stream",
     "text": [
      "pivo 2 C[lAnterior][i] 0 C[lAtual][i]= 0\n",
      "pivo 2 C[lAnterior][i] -1 C[lAtual][i]= 2\n",
      "pivo 2 C[lAnterior][i] 2 C[lAtual][i]= -1\n",
      "pivo 2 C[lAnterior][i] 4 C[lAtual][i]= -7\n",
      "[2, 1, 1, 3, 0]\n",
      "[0, -1, 2, 4, -4]\n",
      "[0, 0, 3, 1, 0]\n",
      "[0, -1, 8, 11, -15]\n",
      "\n",
      "\n"
     ]
    }
   ],
   "source": [
    "D = operacaoElementar(D,2,1,2)\n",
    "printaMatriz(D)"
   ]
  },
  {
   "cell_type": "code",
   "execution_count": 13,
   "id": "0d7c13ab",
   "metadata": {},
   "outputs": [
    {
     "name": "stdout",
     "output_type": "stream",
     "text": [
      "pivo -1 C[lAnterior][i] 0 C[lAtual][i]= 0\n",
      "pivo -1 C[lAnterior][i] -1 C[lAtual][i]= -1\n",
      "pivo -1 C[lAnterior][i] 2 C[lAtual][i]= 8\n",
      "pivo -1 C[lAnterior][i] 4 C[lAtual][i]= 11\n",
      "[2, 1, 1, 3, 0]\n",
      "[0, -1, 2, 4, -4]\n",
      "[0, 0, 3, 1, 0]\n",
      "[0, 0, 6, 7, -15]\n",
      "\n",
      "\n"
     ]
    }
   ],
   "source": [
    "D = operacaoElementar(D,3,1,-1)\n",
    "printaMatriz(D)"
   ]
  },
  {
   "cell_type": "code",
   "execution_count": 14,
   "id": "48dcb0c9",
   "metadata": {
    "scrolled": true
   },
   "outputs": [
    {
     "name": "stdout",
     "output_type": "stream",
     "text": [
      "pivo -2 C[lAnterior][i] 0 C[lAtual][i]= 0\n",
      "pivo -2 C[lAnterior][i] 0 C[lAtual][i]= 0\n",
      "pivo -2 C[lAnterior][i] 3 C[lAtual][i]= 6\n",
      "pivo -2 C[lAnterior][i] 1 C[lAtual][i]= 7\n",
      "[2, 1, 1, 3, 0]\n",
      "[0, -1, 2, 4, -4]\n",
      "[0, 0, 3, 1, 0]\n",
      "[0, 0, 0, 5, -15]\n",
      "\n",
      "\n"
     ]
    }
   ],
   "source": [
    "D = operacaoElementar(D,3,2,-2)\n",
    "printaMatriz(D)"
   ]
  },
  {
   "cell_type": "code",
   "execution_count": null,
   "id": "d5ce49a9",
   "metadata": {},
   "outputs": [],
   "source": []
  }
 ],
 "metadata": {
  "kernelspec": {
   "display_name": "Python 3",
   "language": "python",
   "name": "python3"
  },
  "language_info": {
   "codemirror_mode": {
    "name": "ipython",
    "version": 3
   },
   "file_extension": ".py",
   "mimetype": "text/x-python",
   "name": "python",
   "nbconvert_exporter": "python",
   "pygments_lexer": "ipython3",
   "version": "3.8.8"
  }
 },
 "nbformat": 4,
 "nbformat_minor": 5
}
