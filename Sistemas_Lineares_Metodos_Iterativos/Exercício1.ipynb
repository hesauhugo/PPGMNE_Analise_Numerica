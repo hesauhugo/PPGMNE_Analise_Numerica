{
 "cells": [
  {
   "cell_type": "markdown",
   "id": "214aea2e",
   "metadata": {},
   "source": [
    "## Exercício 1"
   ]
  },
  {
   "attachments": {
    "image.png": {
     "image/png": "[encoded data removed]"
    }
   },
   "cell_type": "markdown",
   "id": "19fc6a13",
   "metadata": {},
   "source": [
    "![image.png](attachment:image.png)"
   ]
  },
  {
   "attachments": {
    "image.png": {
     "image/png": "[encoded data removed]"
    }
   },
   "cell_type": "markdown",
   "id": "aea1ccfa",
   "metadata": {},
   "source": [
    "![image.png](attachment:image.png)"
   ]
  },
  {
   "cell_type": "code",
   "execution_count": 1,
   "id": "a12340d6",
   "metadata": {},
   "outputs": [],
   "source": [
    "import numpy as np\n",
    "import copy"
   ]
  },
  {
   "cell_type": "code",
   "execution_count": 2,
   "id": "c6e448b3",
   "metadata": {},
   "outputs": [],
   "source": [
    "def Jacobi(A,b,p,printa):\n",
    "    AIdent = np.identity(len(A))\n",
    "    D = copy.deepcopy(A)*copy.deepcopy(AIdent)\n",
    "    #print(D)\n",
    "    InvD = np.linalg.inv(copy.deepcopy(D))\n",
    "    #print(InvD)\n",
    "    B = copy.deepcopy(AIdent) - np.dot(copy.deepcopy(InvD),copy.deepcopy(A))\n",
    "    #print(B)\n",
    "    g = np.dot(InvD,b)\n",
    "    #print(g)\n",
    "\n",
    "    x = np.zeros(len(b))\n",
    "    it = 0\n",
    "    while True:\n",
    "        it+=1\n",
    "        xOld = x\n",
    "        x = np.dot(B,x) + g\n",
    "        Er = np.max(np.abs(x-xOld)/np.max(np.abs(x)))\n",
    "        if printa : print(x,Er,it)\n",
    "        if Er<10**-p or Er != Er:\n",
    "            print('**',x,Er,it)\n",
    "            break\n"
   ]
  },
  {
   "cell_type": "code",
   "execution_count": 3,
   "id": "2740501c",
   "metadata": {},
   "outputs": [
    {
     "name": "stdout",
     "output_type": "stream",
     "text": [
      "[0.75       1.66666667 0.16666667] 1.0 1\n",
      "[0.41666667 1.16666667 0.47222222] 0.4285714285714286 2\n",
      "[0.69444444 1.38888889 0.41666667] 0.19999999999999998 3\n",
      "[0.61111111 1.2037037  0.39814815] 0.1538461538461538 4\n",
      "[0.64814815 1.25925926 0.36419753] 0.04411764705882338 5\n",
      "[0.61728395 1.2345679  0.37037037] 0.024999999999999932 6\n",
      "[0.62654321 1.25514403 0.37242798] 0.016393442622950834 7\n",
      "[0.62242798 1.24897119 0.37620027] 0.004942339373970368 8\n",
      "[0.62585734 1.25171468 0.3755144 ] 0.002739726027397263 9\n",
      "[0.62482853 1.24942844 0.37528578] 0.001829826166514183 10\n",
      "[0.62528578 1.25011431 0.37486664] 0.0005486466715435087 11\n",
      "[0.62490474 1.24980948 0.37494284] 0.0003048780487804881 12\n",
      "[0.62501905 1.25006351 0.37496825] 0.0002032107295265192 13\n",
      "[0.62496825 1.2499873  0.37501482] 6.0966935598611516e-05 14\n",
      "[0.62501058 1.25002117 0.37500635] 3.3869602032205755e-05 15\n",
      "[0.62499788 1.24999294 0.37500353] 2.2580244544127384e-05 16\n",
      "[0.62500353 1.25000141 0.37499835] 6.7740274754968955e-06 17\n",
      "[0.62499882 1.24999765 0.37499929] 3.763359927756651e-06 18\n",
      "[0.62500024 1.25000078 0.37499961] 2.508900323967018e-06 19\n",
      "[0.62499961 1.24999984 0.37500018] 7.526706638449157e-07 20\n",
      "[0.62500013 1.25000026 0.37500008] 4.1815022890325566e-07 21\n",
      "[0.62499997 1.24999991 0.37500004] 2.787668969205864e-07 22\n",
      "[0.62500004 1.25000002 0.37499998] 8.363006206442448e-08 23\n",
      "[0.62499999 1.24999997 0.37499999] 4.646114729852014e-08 24\n",
      "[0.625      1.25000001 0.375     ] 3.0974097180406806e-08 25\n",
      "[0.625 1.25  0.375] 9.292229222703995e-09 26\n",
      "[0.625 1.25  0.375] 5.162349556717653e-09 27\n",
      "[0.625 1.25  0.375] 3.441566323777586e-09 28\n",
      "[0.625 1.25  0.375] 1.0324697539587348e-09 29\n",
      "[0.625 1.25  0.375] 5.735943277553592e-10 30\n",
      "[0.625 1.25  0.375] 3.8239615914545134e-10 31\n",
      "[0.625 1.25  0.375] 1.14718901047501e-10 32\n",
      "[0.625 1.25  0.375] 6.373275240686505e-11 33\n",
      "[0.625 1.25  0.375] 4.248850160638198e-11 34\n",
      "[0.625 1.25  0.375] 1.27466037724573e-11 35\n",
      "[0.625 1.25  0.375] 7.081357722452202e-12 36\n",
      "[0.625 1.25  0.375] 4.721023572068474e-12 37\n",
      "[0.625 1.25  0.375] 1.416289308054154e-12 38\n",
      "[0.625 1.25  0.375] 7.868372620120315e-13 39\n",
      "[0.625 1.25  0.375] 5.245581746749628e-13 40\n",
      "[0.625 1.25  0.375] 1.573852159708581e-13 41\n",
      "[0.625 1.25  0.375] 8.739675649849614e-14 42\n",
      "[0.625 1.25  0.375] 5.826450433232736e-14 43\n",
      "[0.625 1.25  0.375] 1.7585932710062534e-14 44\n",
      "[0.625 1.25  0.375] 9.76996261670133e-15 45\n",
      "[0.625 1.25  0.375] 6.572520305780938e-15 46\n",
      "[0.625 1.25  0.375] 2.1316282072802997e-15 47\n",
      "[0.625 1.25  0.375] 1.1546319456101636e-15 48\n",
      "[0.625 1.25  0.375] 8.88178419700125e-16 49\n",
      "[0.625 1.25  0.375] 3.5527136788005016e-16 50\n",
      "[0.625 1.25  0.375] 1.7763568394002506e-16 51\n",
      "[0.625 1.25  0.375] 4.4408920985006264e-17 52\n",
      "[0.625 1.25  0.375] 0.0 53\n",
      "** [0.625 1.25  0.375] 0.0 53\n",
      "** [-1.77991224e+308              inf  6.19090962e+307] nan 728\n",
      "** [-1.61932926e+308              inf              inf] nan 970\n"
     ]
    },
    {
     "name": "stderr",
     "output_type": "stream",
     "text": [
      "<ipython-input-2-b999ad71946c>:18: RuntimeWarning: invalid value encountered in true_divide\n",
      "  Er = np.max(np.abs(x-xOld)/np.max(np.abs(x)))\n",
      "<ipython-input-2-b999ad71946c>:18: RuntimeWarning: overflow encountered in subtract\n",
      "  Er = np.max(np.abs(x-xOld)/np.max(np.abs(x)))\n"
     ]
    },
    {
     "ename": "LinAlgError",
     "evalue": "Singular matrix",
     "output_type": "error",
     "traceback": [
      "\u001b[1;31m---------------------------------------------------------------------------\u001b[0m",
      "\u001b[1;31mLinAlgError\u001b[0m                               Traceback (most recent call last)",
      "\u001b[1;32m<ipython-input-3-c9a431c2f417>\u001b[0m in \u001b[0;36m<module>\u001b[1;34m\u001b[0m\n\u001b[0;32m     17\u001b[0m \u001b[0mb\u001b[0m \u001b[1;33m=\u001b[0m \u001b[0mnp\u001b[0m\u001b[1;33m.\u001b[0m\u001b[0marray\u001b[0m\u001b[1;33m(\u001b[0m\u001b[1;33m[\u001b[0m\u001b[1;36m3\u001b[0m\u001b[1;33m,\u001b[0m\u001b[1;36m5\u001b[0m\u001b[1;33m,\u001b[0m\u001b[1;36m1\u001b[0m\u001b[1;33m]\u001b[0m\u001b[1;33m)\u001b[0m\u001b[1;33m\u001b[0m\u001b[1;33m\u001b[0m\u001b[0m\n\u001b[0;32m     18\u001b[0m \u001b[0mp\u001b[0m \u001b[1;33m=\u001b[0m \u001b[1;36m10\u001b[0m\u001b[1;33m**\u001b[0m\u001b[1;36m2\u001b[0m\u001b[1;33m\u001b[0m\u001b[1;33m\u001b[0m\u001b[0m\n\u001b[1;32m---> 19\u001b[1;33m \u001b[0mJacobi\u001b[0m\u001b[1;33m(\u001b[0m\u001b[0mA\u001b[0m\u001b[1;33m,\u001b[0m\u001b[0mb\u001b[0m\u001b[1;33m,\u001b[0m\u001b[0mp\u001b[0m\u001b[1;33m,\u001b[0m\u001b[1;32mTrue\u001b[0m\u001b[1;33m)\u001b[0m\u001b[1;33m\u001b[0m\u001b[1;33m\u001b[0m\u001b[0m\n\u001b[0m",
      "\u001b[1;32m<ipython-input-2-b999ad71946c>\u001b[0m in \u001b[0;36mJacobi\u001b[1;34m(A, b, p, printa)\u001b[0m\n\u001b[0;32m      3\u001b[0m     \u001b[0mD\u001b[0m \u001b[1;33m=\u001b[0m \u001b[0mcopy\u001b[0m\u001b[1;33m.\u001b[0m\u001b[0mdeepcopy\u001b[0m\u001b[1;33m(\u001b[0m\u001b[0mA\u001b[0m\u001b[1;33m)\u001b[0m\u001b[1;33m*\u001b[0m\u001b[0mcopy\u001b[0m\u001b[1;33m.\u001b[0m\u001b[0mdeepcopy\u001b[0m\u001b[1;33m(\u001b[0m\u001b[0mAIdent\u001b[0m\u001b[1;33m)\u001b[0m\u001b[1;33m\u001b[0m\u001b[1;33m\u001b[0m\u001b[0m\n\u001b[0;32m      4\u001b[0m     \u001b[1;31m#print(D)\u001b[0m\u001b[1;33m\u001b[0m\u001b[1;33m\u001b[0m\u001b[1;33m\u001b[0m\u001b[0m\n\u001b[1;32m----> 5\u001b[1;33m     \u001b[0mInvD\u001b[0m \u001b[1;33m=\u001b[0m \u001b[0mnp\u001b[0m\u001b[1;33m.\u001b[0m\u001b[0mlinalg\u001b[0m\u001b[1;33m.\u001b[0m\u001b[0minv\u001b[0m\u001b[1;33m(\u001b[0m\u001b[0mcopy\u001b[0m\u001b[1;33m.\u001b[0m\u001b[0mdeepcopy\u001b[0m\u001b[1;33m(\u001b[0m\u001b[0mD\u001b[0m\u001b[1;33m)\u001b[0m\u001b[1;33m)\u001b[0m\u001b[1;33m\u001b[0m\u001b[1;33m\u001b[0m\u001b[0m\n\u001b[0m\u001b[0;32m      6\u001b[0m     \u001b[1;31m#print(InvD)\u001b[0m\u001b[1;33m\u001b[0m\u001b[1;33m\u001b[0m\u001b[1;33m\u001b[0m\u001b[0m\n\u001b[0;32m      7\u001b[0m     \u001b[0mB\u001b[0m \u001b[1;33m=\u001b[0m \u001b[0mcopy\u001b[0m\u001b[1;33m.\u001b[0m\u001b[0mdeepcopy\u001b[0m\u001b[1;33m(\u001b[0m\u001b[0mAIdent\u001b[0m\u001b[1;33m)\u001b[0m \u001b[1;33m-\u001b[0m \u001b[0mnp\u001b[0m\u001b[1;33m.\u001b[0m\u001b[0mdot\u001b[0m\u001b[1;33m(\u001b[0m\u001b[0mcopy\u001b[0m\u001b[1;33m.\u001b[0m\u001b[0mdeepcopy\u001b[0m\u001b[1;33m(\u001b[0m\u001b[0mInvD\u001b[0m\u001b[1;33m)\u001b[0m\u001b[1;33m,\u001b[0m\u001b[0mcopy\u001b[0m\u001b[1;33m.\u001b[0m\u001b[0mdeepcopy\u001b[0m\u001b[1;33m(\u001b[0m\u001b[0mA\u001b[0m\u001b[1;33m)\u001b[0m\u001b[1;33m)\u001b[0m\u001b[1;33m\u001b[0m\u001b[1;33m\u001b[0m\u001b[0m\n",
      "\u001b[1;32m<__array_function__ internals>\u001b[0m in \u001b[0;36minv\u001b[1;34m(*args, **kwargs)\u001b[0m\n",
      "\u001b[1;32m~\\anaconda3\\lib\\site-packages\\numpy\\linalg\\linalg.py\u001b[0m in \u001b[0;36minv\u001b[1;34m(a)\u001b[0m\n\u001b[0;32m    543\u001b[0m     \u001b[0msignature\u001b[0m \u001b[1;33m=\u001b[0m \u001b[1;34m'D->D'\u001b[0m \u001b[1;32mif\u001b[0m \u001b[0misComplexType\u001b[0m\u001b[1;33m(\u001b[0m\u001b[0mt\u001b[0m\u001b[1;33m)\u001b[0m \u001b[1;32melse\u001b[0m \u001b[1;34m'd->d'\u001b[0m\u001b[1;33m\u001b[0m\u001b[1;33m\u001b[0m\u001b[0m\n\u001b[0;32m    544\u001b[0m     \u001b[0mextobj\u001b[0m \u001b[1;33m=\u001b[0m \u001b[0mget_linalg_error_extobj\u001b[0m\u001b[1;33m(\u001b[0m\u001b[0m_raise_linalgerror_singular\u001b[0m\u001b[1;33m)\u001b[0m\u001b[1;33m\u001b[0m\u001b[1;33m\u001b[0m\u001b[0m\n\u001b[1;32m--> 545\u001b[1;33m     \u001b[0mainv\u001b[0m \u001b[1;33m=\u001b[0m \u001b[0m_umath_linalg\u001b[0m\u001b[1;33m.\u001b[0m\u001b[0minv\u001b[0m\u001b[1;33m(\u001b[0m\u001b[0ma\u001b[0m\u001b[1;33m,\u001b[0m \u001b[0msignature\u001b[0m\u001b[1;33m=\u001b[0m\u001b[0msignature\u001b[0m\u001b[1;33m,\u001b[0m \u001b[0mextobj\u001b[0m\u001b[1;33m=\u001b[0m\u001b[0mextobj\u001b[0m\u001b[1;33m)\u001b[0m\u001b[1;33m\u001b[0m\u001b[1;33m\u001b[0m\u001b[0m\n\u001b[0m\u001b[0;32m    546\u001b[0m     \u001b[1;32mreturn\u001b[0m \u001b[0mwrap\u001b[0m\u001b[1;33m(\u001b[0m\u001b[0mainv\u001b[0m\u001b[1;33m.\u001b[0m\u001b[0mastype\u001b[0m\u001b[1;33m(\u001b[0m\u001b[0mresult_t\u001b[0m\u001b[1;33m,\u001b[0m \u001b[0mcopy\u001b[0m\u001b[1;33m=\u001b[0m\u001b[1;32mFalse\u001b[0m\u001b[1;33m)\u001b[0m\u001b[1;33m)\u001b[0m\u001b[1;33m\u001b[0m\u001b[1;33m\u001b[0m\u001b[0m\n\u001b[0;32m    547\u001b[0m \u001b[1;33m\u001b[0m\u001b[0m\n",
      "\u001b[1;32m~\\anaconda3\\lib\\site-packages\\numpy\\linalg\\linalg.py\u001b[0m in \u001b[0;36m_raise_linalgerror_singular\u001b[1;34m(err, flag)\u001b[0m\n\u001b[0;32m     86\u001b[0m \u001b[1;33m\u001b[0m\u001b[0m\n\u001b[0;32m     87\u001b[0m \u001b[1;32mdef\u001b[0m \u001b[0m_raise_linalgerror_singular\u001b[0m\u001b[1;33m(\u001b[0m\u001b[0merr\u001b[0m\u001b[1;33m,\u001b[0m \u001b[0mflag\u001b[0m\u001b[1;33m)\u001b[0m\u001b[1;33m:\u001b[0m\u001b[1;33m\u001b[0m\u001b[1;33m\u001b[0m\u001b[0m\n\u001b[1;32m---> 88\u001b[1;33m     \u001b[1;32mraise\u001b[0m \u001b[0mLinAlgError\u001b[0m\u001b[1;33m(\u001b[0m\u001b[1;34m\"Singular matrix\"\u001b[0m\u001b[1;33m)\u001b[0m\u001b[1;33m\u001b[0m\u001b[1;33m\u001b[0m\u001b[0m\n\u001b[0m\u001b[0;32m     89\u001b[0m \u001b[1;33m\u001b[0m\u001b[0m\n\u001b[0;32m     90\u001b[0m \u001b[1;32mdef\u001b[0m \u001b[0m_raise_linalgerror_nonposdef\u001b[0m\u001b[1;33m(\u001b[0m\u001b[0merr\u001b[0m\u001b[1;33m,\u001b[0m \u001b[0mflag\u001b[0m\u001b[1;33m)\u001b[0m\u001b[1;33m:\u001b[0m\u001b[1;33m\u001b[0m\u001b[1;33m\u001b[0m\u001b[0m\n",
      "\u001b[1;31mLinAlgError\u001b[0m: Singular matrix"
     ]
    }
   ],
   "source": [
    "A = np.array([[4,1,-2],[2,3,0],[2,-2,6]])\n",
    "b = np.array([3,5,1])\n",
    "p = 10**2\n",
    "Jacobi(A,b,p,True)\n",
    "\n",
    "A = np.array([[2,3,0],[4,1,-2],[2,-2,6]])\n",
    "b = np.array([3,5,1])\n",
    "p = 10**2\n",
    "Jacobi(A,b,p,False)\n",
    "\n",
    "A = np.array([[2,3,0],[2,-2,6],[4,1,-2]])\n",
    "b = np.array([3,5,1])\n",
    "p = 10**2\n",
    "Jacobi(A,b,p,False)\n",
    "\n",
    "A = np.array([[4,1,-2],[2,-2,6],[2,3,0]])\n",
    "b = np.array([3,5,1])\n",
    "p = 10**2\n",
    "Jacobi(A,b,p,True)"
   ]
  },
  {
   "cell_type": "markdown",
   "id": "3b5b5ce4",
   "metadata": {},
   "source": [
    "### Resposta a)\n",
    "Quando alterado a posição não convergiu, pelo contrário foi \n",
    "contra a área de convergência desejada sendo que em um dos casos de troca de \n",
    "a matriz se tornou singular não permitindo a inversão e o calculo pelo algorítmo criado"
   ]
  },
  {
   "attachments": {
    "image.png": {
     "image/png": "[encoded data removed]"
    }
   },
   "cell_type": "markdown",
   "id": "699d4d15",
   "metadata": {},
   "source": [
    "![image.png](attachment:image.png)"
   ]
  },
  {
   "cell_type": "code",
   "execution_count": 6,
   "id": "cb11856f",
   "metadata": {},
   "outputs": [
    {
     "name": "stdout",
     "output_type": "stream",
     "text": [
      "** [            inf             inf 2.16806782e+307] nan 907\n",
      "** [-0.15686275  0.64705882  0.46078431] 0.0 98\n",
      "** [-4.57281361e+307             -inf              inf] nan 717\n",
      "** [            inf 1.37982624e+308 6.87508449e+307] nan 790\n"
     ]
    },
    {
     "name": "stderr",
     "output_type": "stream",
     "text": [
      "<ipython-input-2-b999ad71946c>:18: RuntimeWarning: invalid value encountered in true_divide\n",
      "  Er = np.max(np.abs(x-xOld)/np.max(np.abs(x)))\n",
      "<ipython-input-2-b999ad71946c>:18: RuntimeWarning: overflow encountered in subtract\n",
      "  Er = np.max(np.abs(x-xOld)/np.max(np.abs(x)))\n"
     ]
    }
   ],
   "source": [
    "A = np.array([[2,5,-2],[6,3,0],[3,-2,6]])\n",
    "b = np.array([1,2,1])\n",
    "p = 10**2\n",
    "Jacobi(A,b,p,False)\n",
    "\n",
    "A = np.array([[6,3,0],[2,5,-2],[3,-2,6]])\n",
    "b = np.array([1,2,1])\n",
    "p = 10**2\n",
    "Jacobi(A,b,p,False)\n",
    "\n",
    "A = np.array([[6,3,0],[3,-2,6],[2,5,-2]])\n",
    "b = np.array([1,2,1])\n",
    "p = 10**2\n",
    "Jacobi(A,b,p,False)\n",
    "\n",
    "A = np.array([[3,-2,6],[6,3,0],[2,5,-2]])\n",
    "b = np.array([1,2,1])\n",
    "p = 10**2\n",
    "Jacobi(A,b,p,False)"
   ]
  },
  {
   "cell_type": "markdown",
   "id": "01085ea1",
   "metadata": {},
   "source": [
    "### Resposta b)\n",
    "Na posição original não convergiu porém a segunda troca converge e as demais não converge."
   ]
  },
  {
   "cell_type": "code",
   "execution_count": null,
   "id": "22febed0",
   "metadata": {},
   "outputs": [],
   "source": []
  }
 ],
 "metadata": {
  "kernelspec": {
   "display_name": "Python 3",
   "language": "python",
   "name": "python3"
  },
  "language_info": {
   "codemirror_mode": {
    "name": "ipython",
    "version": 3
   },
   "file_extension": ".py",
   "mimetype": "text/x-python",
   "name": "python",
   "nbconvert_exporter": "python",
   "pygments_lexer": "ipython3",
   "version": "3.8.8"
  }
 },
 "nbformat": 4,
 "nbformat_minor": 5
}
