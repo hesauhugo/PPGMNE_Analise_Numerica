{
 "cells": [
  {
   "cell_type": "markdown",
   "id": "92300516",
   "metadata": {},
   "source": [
    "#### Exercício 7 \n",
    "$\n",
    "\\text{(a) Utilizando o método de Newton, mostre que a raiz } \\sqrt[p]{a}\n",
    "\\\\ \\text{, com } \\mathit{a > 0 } \\text{ e } \\mathit{p} \\text{ um inteiro positivo, pode ser calculada, para todo }\n",
    "\\\\ \\mathit{x_0 > 0} \\text{, pela fórmula de recorrência: }\n",
    " \\\\ \\mathit{x_{k+1} = \\frac{1}{p}} \\left( (p-1)x_k + \\frac{a}{x_{k}^{p-1}}  \\right)\n",
    "$"
   ]
  },
  {
   "cell_type": "markdown",
   "id": "d884a42a",
   "metadata": {},
   "source": [
    "$\\text{O método de Newton-Raphson é dada por: }\n",
    "\\\\ \\mathit{x_{k+1} = x_k - \\frac{f(x_k)}{f'(x_k)}}\n",
    "$\n"
   ]
  },
  {
   "cell_type": "markdown",
   "id": "ca8f1107",
   "metadata": {},
   "source": [
    "#### Resposta (a)"
   ]
  },
  {
   "cell_type": "markdown",
   "id": "5db8fe1e",
   "metadata": {},
   "source": [
    "$\n",
    "\\text{Adaptando a raiz } \\sqrt[p]{a} \\text{ temos:}\n",
    "\\\\ \\mathit{f(x) = x^p - a = 0}\n",
    "\\\\ \\text{Derivando temos: } \\mathit{f'(x) = px^{p-1} -1}\n",
    "$"
   ]
  },
  {
   "cell_type": "markdown",
   "id": "f339bda5",
   "metadata": {},
   "source": [
    "$\\text{Finalmente teremos o método de Newton-Raphson para a função dada é:}\n",
    "\\\\ \\mathit{x_{k+1} = x_k - \\frac{x_k^p -\\ a }{px_k^{p-1} - \\ 1 } }\n",
    "$"
   ]
  },
  {
   "cell_type": "markdown",
   "id": "2d9f060d",
   "metadata": {},
   "source": [
    "$\n",
    "\\text{Mostrando que podemos chegar na fórmula dada pelo exercício temos que:}\n",
    "\\\\ \\mathit{x_{k+1} = \\frac{1}{p}} \\left( (p-1)x_k + \\frac{a}{x_{k}^{p-1}}  \\right)\n",
    "\\Rightarrow\n",
    "\\left( px_k \\ - x_k + \\frac{a}{x_{k}^{p-1}}  \\right)\n",
    "\\\\ \\Rightarrow\n",
    "\\left( \\frac{px_k}{p} \\ - \\frac{x_k}{p} + \\frac{a}{px_{k}^{p-1}}  \\right)\n",
    "\\Rightarrow\n",
    "\\left( \\frac{px_k}{p} \\ - \\frac{x_k}{p} + \\frac{a}{px_{k}^{p-1}}  \\right)\n",
    "\\Rightarrow\n",
    "\\left( x_k \\  + \\frac{-x_k+a}{px_{k}^{p-1}}  \\right)\n",
    "\\\\ \\Rightarrow\n",
    "\\left( x_k \\  - \\frac{x_k-a}{px_{k}^{p-1}}  \\right)\n",
    "$"
   ]
  },
  {
   "cell_type": "markdown",
   "id": "70187416",
   "metadata": {},
   "source": [
    "$\n",
    "\\text{(b) Faça } \\mathit{x_0 = 1} \\text{ e determine } \\sqrt{3} \\text{ utilizando a fóruma de recorrência e precisão } \\mathit{\\epsilon = 10^{-4}}. \\\\\n",
    "\\text{Compare o desempenho com o exercício 4 item (b)}\n",
    "$"
   ]
  },
  {
   "cell_type": "markdown",
   "id": "02f77536",
   "metadata": {},
   "source": [
    "#### Resposta (b)"
   ]
  },
  {
   "cell_type": "code",
   "execution_count": 1,
   "id": "dc254474",
   "metadata": {},
   "outputs": [],
   "source": [
    "def newtowRaphson(x,p,a):\n",
    "    #print(\"x=\",x,\"p=\",p,\"a=\",a)\n",
    "    return (1/p)*((p-1)*x + (a/(x**(p-1))))"
   ]
  },
  {
   "cell_type": "code",
   "execution_count": 2,
   "id": "2762abd3",
   "metadata": {},
   "outputs": [
    {
     "name": "stdout",
     "output_type": "stream",
     "text": [
      "1 -2\n",
      "2.0 1.0\n",
      "1.75 0.0625\n",
      "1.7321428571428572 0.0003\n",
      "1.7320508100147274 0.0\n"
     ]
    }
   ],
   "source": [
    "p=2\n",
    "x=1\n",
    "a=3\n",
    "xOld=1\n",
    "precisao = 1e-4\n",
    "#print(abs(round(x**p-a,4)),\"<=\",precisao)\n",
    "print(x,round(x**p-a,4))\n",
    "while (abs(round(x**p-a,4)) > precisao):\n",
    "    xOld = x\n",
    "    x=newtowRaphson(x,p,a)\n",
    "    print(x,round(x**p-a,4))\n",
    "    \n",
    "     \n"
   ]
  },
  {
   "cell_type": "code",
   "execution_count": 3,
   "id": "594a76d3",
   "metadata": {},
   "outputs": [
    {
     "data": {
      "text/plain": [
       "<matplotlib.legend.Legend at 0x269bb606c70>"
      ]
     },
     "execution_count": 3,
     "metadata": {},
     "output_type": "execute_result"
    },
    {
     "data": {
      "image/png": "[encoded data removed]",
      "text/plain": [
       "<Figure size 432x288 with 1 Axes>"
      ]
     },
     "metadata": {
      "needs_background": "light"
     },
     "output_type": "display_data"
    }
   ],
   "source": [
    "%matplotlib inline\n",
    "import matplotlib.pyplot as plt\n",
    "import numpy as np\n",
    "\n",
    "xx = np.linspace(0.5,2.5,50)\n",
    "plt.figure(1)\n",
    "y= xx**2 -3\n",
    "plt.plot(xx,y,'-r',label = 'sqrt(x)')\n",
    "plt.plot(1,-2,'-',label = '1',marker = 'o')\n",
    "plt.plot(2,1,'-',label = '2',marker = 'o')\n",
    "plt.plot(1.75,0.0625,'-',label = '3',marker = 'o')\n",
    "plt.plot(1.7321428571428572,0.0003,'-',label = '4',marker = 'o')\n",
    "plt.plot(1.7320508100147274,0.0,'-',label = '5',marker = 'o')\n",
    "plt.legend()"
   ]
  },
  {
   "cell_type": "markdown",
   "id": "d19d7aac",
   "metadata": {},
   "source": [
    "$\n",
    "\\text{o método de newton convergiu em 5 iterações enquanto que o método da bisseção convergiu em 13}\n",
    "$"
   ]
  },
  {
   "cell_type": "code",
   "execution_count": null,
   "id": "d949b972",
   "metadata": {},
   "outputs": [],
   "source": []
  }
 ],
 "metadata": {
  "kernelspec": {
   "display_name": "Python 3",
   "language": "python",
   "name": "python3"
  },
  "language_info": {
   "codemirror_mode": {
    "name": "ipython",
    "version": 3
   },
   "file_extension": ".py",
   "mimetype": "text/x-python",
   "name": "python",
   "nbconvert_exporter": "python",
   "pygments_lexer": "ipython3",
   "version": "3.8.8"
  }
 },
 "nbformat": 4,
 "nbformat_minor": 5
}
