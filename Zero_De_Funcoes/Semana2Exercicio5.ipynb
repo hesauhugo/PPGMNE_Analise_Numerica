{
 "cells": [
  {
   "cell_type": "markdown",
   "id": "9aa711d2",
   "metadata": {},
   "source": [
    "#### Exercício 5"
   ]
  },
  {
   "cell_type": "markdown",
   "id": "20a6a337",
   "metadata": {},
   "source": [
    "$\n",
    "\\text{Considere } \\mathit{f(x) = tan(\\pi x) - 6 }\n",
    "\\text{ Determine um intervalo que contenha um zero de }\n",
    "\\\\ \\mathit{f} \\text{ e utilize os métodos a seguir, para aproximar uma raiz no intervalo que você determinou, com precisão } \\mathit{\\varepsilon = 10^{-5}}\n",
    "$"
   ]
  },
  {
   "cell_type": "markdown",
   "id": "6a14b09f",
   "metadata": {},
   "source": [
    "$\n",
    "\\text{(a) Método da Bisseção}\n",
    "\\\\ \\text{(b) Método da Falsa Posição}\n",
    "\\\\ \\text{(c) Método de Newton}\n",
    "\\\\ \\text{(d) Método Secante}\n",
    "$"
   ]
  },
  {
   "cell_type": "code",
   "execution_count": 1,
   "id": "97edf108",
   "metadata": {},
   "outputs": [
    {
     "data": {
      "text/plain": [
       "<matplotlib.legend.Legend at 0x1df6f7c4df0>"
      ]
     },
     "execution_count": 1,
     "metadata": {},
     "output_type": "execute_result"
    },
    {
     "data": {
      "image/png": "[encoded data removed]",
      "text/plain": [
       "<Figure size 432x288 with 1 Axes>"
      ]
     },
     "metadata": {
      "needs_background": "light"
     },
     "output_type": "display_data"
    }
   ],
   "source": [
    "%matplotlib inline\n",
    "import matplotlib.pyplot as plt\n",
    "import numpy as np\n",
    "import math\n",
    "\n",
    "xx = np.linspace(-1,0,50)\n",
    "plt.figure(1)\n",
    "y= np.tan(np.pi*xx) -6\n",
    "plt.plot(xx,y,'-r',label = 'y')\n",
    "plt.plot(-0.8,0,'-g',label = 'a',marker = 'o')\n",
    "plt.plot(-0.53,0,'-y',label = 'b',marker = 'o')\n",
    "plt.legend()"
   ]
  },
  {
   "cell_type": "code",
   "execution_count": 2,
   "id": "d6ccac52",
   "metadata": {},
   "outputs": [],
   "source": [
    "def fx(x):\n",
    "    return math.tan(math.pi*x) -6"
   ]
  },
  {
   "cell_type": "code",
   "execution_count": 3,
   "id": "e829b16c",
   "metadata": {
    "scrolled": true
   },
   "outputs": [
    {
     "name": "stdout",
     "output_type": "stream",
     "text": [
      "-24.146608016453754\n"
     ]
    }
   ],
   "source": [
    "print(fx(-0.8)*fx(-0.53))"
   ]
  },
  {
   "cell_type": "code",
   "execution_count": 4,
   "id": "3b8ee3b9",
   "metadata": {},
   "outputs": [
    {
     "data": {
      "text/plain": [
       "14.72067178682556"
      ]
     },
     "execution_count": 4,
     "metadata": {},
     "output_type": "execute_result"
    }
   ],
   "source": [
    "a = -0.8\n",
    "b = -0.53\n",
    "precisao = 10**-5\n",
    "k = (math.log(b-a,10) - math.log(precisao,10)) / math.log(2,10)\n",
    "k"
   ]
  },
  {
   "cell_type": "markdown",
   "id": "727fd82a",
   "metadata": {},
   "source": [
    "$\n",
    "\\text{O intervalo escolhido foi [-0.8;-0.53]}\n",
    "$"
   ]
  },
  {
   "cell_type": "markdown",
   "id": "3dae4185",
   "metadata": {},
   "source": [
    "#### Resposta (a) Método da bisseção:"
   ]
  },
  {
   "cell_type": "code",
   "execution_count": 5,
   "id": "6c78c16e",
   "metadata": {},
   "outputs": [
    {
     "name": "stdout",
     "output_type": "stream",
     "text": [
      "x=  -0.5525769042968751 f(x) =  -0.0009817819663000549\n"
     ]
    }
   ],
   "source": [
    "x = a\n",
    "k = 14\n",
    "for i in range(1,k):\n",
    "    x=a+((b-a)/2)\n",
    "\n",
    "    if fx(a)*fx(x) < 0:\n",
    "        b=x\n",
    "    else:\n",
    "        a=x\n",
    "print(\"x= \", x,\"f(x) = \",fx(x)) "
   ]
  },
  {
   "cell_type": "markdown",
   "id": "f26c99aa",
   "metadata": {},
   "source": [
    "$\n",
    "\\text{O resultado encontrado foi de } \\mathit{x\\approx -0.55257} \\text{ para } \\mathit{y \\approx 0.00093}\n",
    "$"
   ]
  },
  {
   "cell_type": "code",
   "execution_count": 6,
   "id": "edfa5f2a",
   "metadata": {},
   "outputs": [
    {
     "data": {
      "text/plain": [
       "<matplotlib.legend.Legend at 0x1df6ff5f610>"
      ]
     },
     "execution_count": 6,
     "metadata": {},
     "output_type": "execute_result"
    },
    {
     "data": {
      "image/png": "[encoded data removed]",
      "text/plain": [
       "<Figure size 432x288 with 1 Axes>"
      ]
     },
     "metadata": {
      "needs_background": "light"
     },
     "output_type": "display_data"
    }
   ],
   "source": [
    "xx = np.linspace(-1,-0,50)\n",
    "plt.figure(1)\n",
    "y= np.tan(np.pi*xx) -6\n",
    "plt.plot(xx,y,'-r',label = 'y')\n",
    "plt.plot(-0.55256,0.00093,'-g',label = 'aprox',marker = 'o')\n",
    "plt.legend()"
   ]
  },
  {
   "cell_type": "markdown",
   "id": "1d8ab199",
   "metadata": {},
   "source": [
    "#### Resposta (b) Método da falsa posição:"
   ]
  },
  {
   "cell_type": "code",
   "execution_count": 7,
   "id": "3d623ef3",
   "metadata": {},
   "outputs": [
    {
     "name": "stdout",
     "output_type": "stream",
     "text": [
      "x=  -0.5525700463205683 f(x) =  -0.00018476894667696087\n"
     ]
    }
   ],
   "source": [
    "a = -0.8\n",
    "b = -0.53\n",
    "precisao = 10**-5\n",
    "x = a\n",
    "k = 15\n",
    "\n",
    "for i in range(1,k):\n",
    "    \n",
    "    x= a - (b-a)*fx(a)/(fx(b)-fx(a))\n",
    "\n",
    "    if fx(a)*fx(x) < 0:\n",
    "        b=x\n",
    "    else:\n",
    "        a=x\n",
    "print(\"x= \", x, \"f(x) = \",fx(x)) "
   ]
  },
  {
   "cell_type": "code",
   "execution_count": 8,
   "id": "d9c52720",
   "metadata": {},
   "outputs": [
    {
     "data": {
      "text/plain": [
       "<matplotlib.legend.Legend at 0x1df6ffd7700>"
      ]
     },
     "execution_count": 8,
     "metadata": {},
     "output_type": "execute_result"
    },
    {
     "data": {
      "image/png": "[encoded data removed]",
      "text/plain": [
       "<Figure size 432x288 with 1 Axes>"
      ]
     },
     "metadata": {
      "needs_background": "light"
     },
     "output_type": "display_data"
    }
   ],
   "source": [
    "xx = np.linspace(-1,-0,50)\n",
    "plt.figure(1)\n",
    "y= np.tan(np.pi*xx) -6\n",
    "plt.plot(xx,y,'-r',label = 'y')\n",
    "plt.plot(-0.55257,-0.00018,'-g',label = 'aprox',marker = 'o')\n",
    "plt.legend()"
   ]
  },
  {
   "cell_type": "markdown",
   "id": "4b6ec453",
   "metadata": {},
   "source": [
    "$\n",
    "\\text{O resultado encontrado foi de } \\mathit{x\\approx -0.55257} \\text{ para } \\mathit{y \\approx -0.00018}\n",
    "$"
   ]
  },
  {
   "cell_type": "markdown",
   "id": "786c8637",
   "metadata": {},
   "source": [
    "#### Resposta (c) Método de Newton:"
   ]
  },
  {
   "cell_type": "code",
   "execution_count": 9,
   "id": "340377ee",
   "metadata": {},
   "outputs": [],
   "source": [
    "import  sympy as sp\n",
    "_a,_x,_y = sp.symbols('_a _x _y')"
   ]
  },
  {
   "cell_type": "code",
   "execution_count": 10,
   "id": "b46333fe",
   "metadata": {},
   "outputs": [
    {
     "name": "stdout",
     "output_type": "stream",
     "text": [
      "pi*(tan(pi*_x)**2 + 1)\n"
     ]
    },
    {
     "data": {
      "text/latex": [
       "$\\displaystyle \\pi \\left(\\tan^{2}{\\left(\\pi _x \\right)} + 1\\right)$"
      ],
      "text/plain": [
       "pi*(tan(pi*_x)**2 + 1)"
      ]
     },
     "execution_count": 10,
     "metadata": {},
     "output_type": "execute_result"
    }
   ],
   "source": [
    "fxLinha = sp.diff(sp.tan(sp.pi*_x) -6)\n",
    "print(fxLinha)\n",
    "fxLinha"
   ]
  },
  {
   "cell_type": "code",
   "execution_count": 11,
   "id": "c995f171",
   "metadata": {},
   "outputs": [],
   "source": [
    "def dFx(x):\n",
    "    return math.pi*(math.tan(math.pi*x)**2 + 1)"
   ]
  },
  {
   "cell_type": "code",
   "execution_count": 12,
   "id": "d59f1aaa",
   "metadata": {},
   "outputs": [
    {
     "name": "stdout",
     "output_type": "stream",
     "text": [
      "x=  -0.5525684567112534 f(x) =  0.0\n"
     ]
    }
   ],
   "source": [
    "x =  -0.53\n",
    "k = 15\n",
    "\n",
    "for i in range(1,k):\n",
    "    x = x-fx(x)/dFx(x)\n",
    "    \n",
    "print(\"x= \", x, \"f(x) = \",fx(x))     "
   ]
  },
  {
   "cell_type": "code",
   "execution_count": 13,
   "id": "05c72da4",
   "metadata": {},
   "outputs": [
    {
     "data": {
      "text/plain": [
       "<matplotlib.legend.Legend at 0x1df714b8df0>"
      ]
     },
     "execution_count": 13,
     "metadata": {},
     "output_type": "execute_result"
    },
    {
     "data": {
      "image/png": "[encoded data removed]",
      "text/plain": [
       "<Figure size 432x288 with 1 Axes>"
      ]
     },
     "metadata": {
      "needs_background": "light"
     },
     "output_type": "display_data"
    }
   ],
   "source": [
    "xx = np.linspace(-1,-0,50)\n",
    "plt.figure(1)\n",
    "y= np.tan(np.pi*xx) -6\n",
    "plt.plot(xx,y,'-r',label = 'y')\n",
    "plt.plot(-0.55257,0,'-g',label = 'aprox',marker = 'o')\n",
    "plt.legend()"
   ]
  },
  {
   "cell_type": "markdown",
   "id": "7ad99604",
   "metadata": {},
   "source": [
    "$\n",
    "\\text{O resultado encontrado foi de } \\mathit{x\\approx -0.55257} \\text{ para } \\mathit{y \\approx -0.00018}\n",
    "$"
   ]
  },
  {
   "cell_type": "markdown",
   "id": "dc2bf822",
   "metadata": {},
   "source": [
    "#### Resposta (d) Método Secante:"
   ]
  },
  {
   "cell_type": "code",
   "execution_count": 14,
   "id": "ee9e8512",
   "metadata": {},
   "outputs": [
    {
     "name": "stdout",
     "output_type": "stream",
     "text": [
      "x=  -0.5525684566760563 f(x) =  4.091286420759843e-09\n"
     ]
    }
   ],
   "source": [
    "xAnt0 = -0.53\n",
    "xAnt1 = -0.535\n",
    "\n",
    "precisao = 10**-5\n",
    "\n",
    "while True:\n",
    "    xAtual = xAnt1 - (xAnt0-xAnt1)*fx(xAnt1)/(fx(xAnt0)-fx(xAnt1)) \n",
    "    \n",
    "    Er = abs((xAtual-xAnt1)/xAtual)    \n",
    "    if Er < precisao:\n",
    "        break\n",
    "    xAnt0,xAnt1 = xAnt1,xAtual\n",
    "    \n",
    "print(\"x= \", xAtual, \"f(x) = \",fx(xAtual)) "
   ]
  },
  {
   "cell_type": "markdown",
   "id": "8ba92943",
   "metadata": {},
   "source": [
    "$\n",
    "\\text{O resultado encontrado foi de } \\mathit{x\\approx -0.55257} \\text{ para } \\mathit{y \\approx 0.00000}\n",
    "$"
   ]
  }
 ],
 "metadata": {
  "kernelspec": {
   "display_name": "Python 3",
   "language": "python",
   "name": "python3"
  },
  "language_info": {
   "codemirror_mode": {
    "name": "ipython",
    "version": 3
   },
   "file_extension": ".py",
   "mimetype": "text/x-python",
   "name": "python",
   "nbconvert_exporter": "python",
   "pygments_lexer": "ipython3",
   "version": "3.8.8"
  }
 },
 "nbformat": 4,
 "nbformat_minor": 5
}
