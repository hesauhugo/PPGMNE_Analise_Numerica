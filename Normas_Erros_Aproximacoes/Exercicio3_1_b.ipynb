{
 "cells": [
  {
   "cell_type": "markdown",
   "id": "3c9f9612",
   "metadata": {},
   "source": [
    "### Exercício 3 da lista\n",
    "##### Polinômio de Taylor"
   ]
  },
  {
   "cell_type": "markdown",
   "id": "e5ccb18d",
   "metadata": {},
   "source": [
    "1. Construa o polinômio de Taylor de grau  para a funções abaixo, em torno do ponto \n",
    " indicado"
   ]
  },
  {
   "cell_type": "markdown",
   "id": "1515ccc2",
   "metadata": {},
   "source": [
    "(b) $ f(x) \\text{ = } \\mathit{{e}^{x}} \\text{ , } \\mathit{x}_{0} \\text{= 1.} $"
   ]
  },
  {
   "cell_type": "code",
   "execution_count": 4,
   "id": "4f6c4177",
   "metadata": {},
   "outputs": [],
   "source": [
    "from sympy import *\n",
    "from sympy.plotting import *\n",
    "\n",
    "\n",
    "%matplotlib inline\n",
    "import matplotlib.pyplot as plt\n",
    "import numpy as np\n",
    "\n",
    "a,x,y = symbols('a x y')\n",
    "y= exp(x)"
   ]
  },
  {
   "cell_type": "code",
   "execution_count": 5,
   "id": "de7ae99a",
   "metadata": {},
   "outputs": [
    {
     "data": {
      "image/png": "[encoded data removed]",
      "text/plain": [
       "<Figure size 432x288 with 1 Axes>"
      ]
     },
     "metadata": {
      "needs_background": "light"
     },
     "output_type": "display_data"
    },
    {
     "data": {
      "text/plain": [
       "<sympy.plotting.plot.Plot at 0x20b9397d400>"
      ]
     },
     "execution_count": 5,
     "metadata": {},
     "output_type": "execute_result"
    }
   ],
   "source": [
    "plot(y)"
   ]
  },
  {
   "cell_type": "code",
   "execution_count": 6,
   "id": "ad22c0a9",
   "metadata": {},
   "outputs": [
    {
     "name": "stdout",
     "output_type": "stream",
     "text": [
      "exp(x)\n",
      "E\n"
     ]
    },
    {
     "data": {
      "text/latex": [
       "$\\displaystyle e^{x}$"
      ],
      "text/plain": [
       "exp(x)"
      ]
     },
     "execution_count": 6,
     "metadata": {},
     "output_type": "execute_result"
    }
   ],
   "source": [
    "primeiraDerivada = diff(exp(x))\n",
    "resultadoPrimeiraDerivada = primeiraDerivada.subs(x,1)\n",
    "print(primeiraDerivada)\n",
    "print(resultadoPrimeiraDerivada)\n",
    "primeiraDerivada"
   ]
  },
  {
   "cell_type": "code",
   "execution_count": 7,
   "id": "64d61c99",
   "metadata": {},
   "outputs": [
    {
     "name": "stdout",
     "output_type": "stream",
     "text": [
      "exp(x)\n",
      "E\n"
     ]
    },
    {
     "data": {
      "text/latex": [
       "$\\displaystyle e^{x}$"
      ],
      "text/plain": [
       "exp(x)"
      ]
     },
     "execution_count": 7,
     "metadata": {},
     "output_type": "execute_result"
    }
   ],
   "source": [
    "segundaDerivada = diff(exp(x))\n",
    "resultadoSegundaDerivada = segundaDerivada.subs(x,1)\n",
    "print(segundaDerivada)\n",
    "print(resultadoSegundaDerivada)\n",
    "segundaDerivada"
   ]
  },
  {
   "cell_type": "markdown",
   "id": "b06b860c",
   "metadata": {},
   "source": [
    "$ \\mathit{T_{n}} \\text{ = } \\mathit{e^{x}}\n",
    "\\text{ + } \\mathit{e^{x}} \\mathit{({x-{x}_{0}})}\n",
    "\\text{ + } \\mathit{e^{x}} \\mathit{({x-{x}_{0}})}^{2}\n",
    "\\text{ + } \\mathit{e^{x}} \\mathit{({x-{x}_{0}})}^{3}\n",
    "\\text{ + ... +} \\mathit{e^{x}} \\mathit{({x-{x}_{0}})}^{n}\n",
    "$"
   ]
  },
  {
   "cell_type": "code",
   "execution_count": null,
   "id": "2f931d51",
   "metadata": {},
   "outputs": [],
   "source": []
  }
 ],
 "metadata": {
  "kernelspec": {
   "display_name": "Python 3",
   "language": "python",
   "name": "python3"
  },
  "language_info": {
   "codemirror_mode": {
    "name": "ipython",
    "version": 3
   },
   "file_extension": ".py",
   "mimetype": "text/x-python",
   "name": "python",
   "nbconvert_exporter": "python",
   "pygments_lexer": "ipython3",
   "version": "3.8.8"
  }
 },
 "nbformat": 4,
 "nbformat_minor": 5
}
